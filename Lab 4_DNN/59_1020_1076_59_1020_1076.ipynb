{
  "nbformat": 4,
  "nbformat_minor": 0,
  "metadata": {
    "colab": {
      "name": "Lab4_DNN.ipynb",
      "provenance": [],
      "collapsed_sections": [
        "sXlzipA9bFQj",
        "xqVNtsgBbFQq",
        "y8l4ZE6VcrNk",
        "XDCVbPUWefPw",
        "MN84ARQvMzxp",
        "tVXImFshM4gn",
        "z85nVgKSWYSN",
        "wySltZ_rZfp6",
        "gyY3QgMcRkF7",
        "0UHcrfDAVWGN",
        "BMTA3CmMa-r0",
        "vnQEH4gddI6C",
        "__nDfuuGm7K9"
      ]
    },
    "kernelspec": {
      "name": "python3",
      "display_name": "Python 3"
    },
    "language_info": {
      "codemirror_mode": {
        "name": "ipython",
        "version": 3
      },
      "file_extension": ".py",
      "mimetype": "text/x-python",
      "name": "python",
      "nbconvert_exporter": "python",
      "pygments_lexer": "ipython3",
      "version": "3.7.3"
    },
    "accelerator": "GPU"
  },
  "cells": [
    {
      "cell_type": "markdown",
      "metadata": {
        "colab_type": "text",
        "id": "U1wyiGyBbFQM"
      },
      "source": [
        "# Lab4 - Training Deep Neural Network\n",
        "- ณัชชา ศรีสุพันธ์, 59070501020\n",
        "- หทัยภัทร อินทร์ลับ, 59070501076\n",
        "\n",
        "Name your file to 59_34xx_34xx.ipynb\n",
        "\n",
        "## Lab Instruction \n",
        "\n",
        "In this lab, you will learn to train a deep fully-connect neural network using Keras library with Tensorflow backend. We will use MNIST data which is a Keras build-in dataset. \n",
        "\n",
        "See http://yann.lecun.com/exdb/mnist\n",
        "\n",
        "**Note:**\n",
        "Before doing any machine learning/deep learning project, you have to think about the following thing:\n",
        "1. What is your problem and your data?\n",
        "- What type of problem do you want to solve? What is your data? What are you trying to predict? Does your data have enough information for your model to predict the expected output?\n",
        "\n",
        "2. How do you measure your success?\n",
        "- What do you mean by good model performance? How do you know that your model is ready to be deploy?\n",
        "- Accuracy? Precision and recall? profit gain? ROC AUC?\n",
        "\n",
        "3. What is your evaluation method?\n",
        "- Hold-out method? CV? Iterate CV?\n",
        "\n",
        "4. How to preprocess your data before fed into a model?\n",
        "\n",
        "5. What is your baseline? What is a model structure? how does your last layer look like? What is your loss function? What is your optimization function? \n",
        "\n",
        "6. Develop a overfit model to figure out how big a model you need by\n",
        "6.1 Add more layer\n",
        "6.2 Make layer bigger\n",
        "6.3 Train more epochs\n",
        "\n",
        "7. Tune your model to balance the model performance between underfit and overfit (optimization vs generalization)\n",
        "\n",
        "\n",
        "\n",
        "**Exploding Gradients :**\n",
        "\n",
        "exploding gradients can result in an unstable network that at best cannot learn from the training data and at worst results in NaN weight values that can no longer be updated.\n",
        "\n",
        "Ref : : https://machinelearningmastery.com/exploding-gradients-in-neural-networks/?fbclid=IwAR1DOg3pD0RSaxpHMZEEtIqxeCDMsvwkf-OxMb7HL5eK7_qLc4uLNEYcJus\n",
        "\n",
        "\n",
        "\n",
        "First, import all important library to this project."
      ]
    },
    {
      "cell_type": "code",
      "metadata": {
        "colab_type": "code",
        "id": "2gEZyZNEbFQN",
        "outputId": "6181057c-de6e-489e-d074-c630e357a1ec",
        "colab": {
          "base_uri": "https://localhost:8080/",
          "height": 34
        }
      },
      "source": [
        "import keras\n",
        "import numpy as np"
      ],
      "execution_count": 0,
      "outputs": [
        {
          "output_type": "stream",
          "text": [
            "Using TensorFlow backend.\n"
          ],
          "name": "stderr"
        }
      ]
    },
    {
      "cell_type": "markdown",
      "metadata": {
        "colab_type": "text",
        "id": "jMwbMSsUbFQR"
      },
      "source": [
        "### 1. Load MNIST data"
      ]
    },
    {
      "cell_type": "code",
      "metadata": {
        "colab_type": "code",
        "id": "DGVpr05_bFQS",
        "colab": {}
      },
      "source": [
        "from keras.datasets import mnist\n",
        "\n",
        "### Load data ###\n",
        "\n",
        "#################\n",
        "\n",
        "(train_images, train_labels), (test_images, test_labels) = mnist.load_data()"
      ],
      "execution_count": 0,
      "outputs": []
    },
    {
      "cell_type": "markdown",
      "metadata": {
        "colab_type": "text",
        "id": "qMnCLh53bFQW"
      },
      "source": [
        "Learn more about the data. For example:\n",
        "- The distribution of a target class. \n",
        "- The characteristic of the input data. How does it looklike? \n",
        "- etc."
      ]
    },
    {
      "cell_type": "code",
      "metadata": {
        "colab_type": "code",
        "id": "J_zHHa9qbFQY",
        "outputId": "ff2c195f-1737-406e-e916-68fe81debf13",
        "colab": {
          "base_uri": "https://localhost:8080/",
          "height": 34
        }
      },
      "source": [
        "train_images.shape"
      ],
      "execution_count": 0,
      "outputs": [
        {
          "output_type": "execute_result",
          "data": {
            "text/plain": [
              "(60000, 28, 28)"
            ]
          },
          "metadata": {
            "tags": []
          },
          "execution_count": 3
        }
      ]
    },
    {
      "cell_type": "code",
      "metadata": {
        "id": "whWFTgwnWlDG",
        "colab_type": "code",
        "outputId": "059ae23f-2f81-42c7-de78-befb72014c5c",
        "colab": {
          "base_uri": "https://localhost:8080/",
          "height": 34
        }
      },
      "source": [
        "train_labels.shape"
      ],
      "execution_count": 0,
      "outputs": [
        {
          "output_type": "execute_result",
          "data": {
            "text/plain": [
              "(60000,)"
            ]
          },
          "metadata": {
            "tags": []
          },
          "execution_count": 4
        }
      ]
    },
    {
      "cell_type": "code",
      "metadata": {
        "id": "gDr9ASo8WoUn",
        "colab_type": "code",
        "outputId": "6880a8bf-73f0-49cb-963a-58bd91988151",
        "colab": {
          "base_uri": "https://localhost:8080/",
          "height": 34
        }
      },
      "source": [
        "test_labels.shape"
      ],
      "execution_count": 0,
      "outputs": [
        {
          "output_type": "execute_result",
          "data": {
            "text/plain": [
              "(10000,)"
            ]
          },
          "metadata": {
            "tags": []
          },
          "execution_count": 5
        }
      ]
    },
    {
      "cell_type": "code",
      "metadata": {
        "id": "kQjdwdQdXLpq",
        "colab_type": "code",
        "outputId": "5bc6b549-d057-4790-d9e0-9800be33717a",
        "colab": {
          "base_uri": "https://localhost:8080/",
          "height": 34
        }
      },
      "source": [
        "test_images.shape"
      ],
      "execution_count": 0,
      "outputs": [
        {
          "output_type": "execute_result",
          "data": {
            "text/plain": [
              "(10000, 28, 28)"
            ]
          },
          "metadata": {
            "tags": []
          },
          "execution_count": 6
        }
      ]
    },
    {
      "cell_type": "markdown",
      "metadata": {
        "colab_type": "text",
        "id": "b1YkEJb1bFQb"
      },
      "source": [
        "### 2. Preprocess a data"
      ]
    },
    {
      "cell_type": "code",
      "metadata": {
        "colab_type": "code",
        "id": "fGAIf_5mbFQc",
        "colab": {}
      },
      "source": [
        "train_images = train_images.reshape(60000,28*28) # Reshape\n",
        "train_images = train_images.astype('float32')/255 # Normalize\n",
        "\n",
        "test_images = test_images.reshape(10000,28*28) # Reshape\n",
        "test_images = test_images.astype('float32')/255 # Normalize"
      ],
      "execution_count": 0,
      "outputs": []
    },
    {
      "cell_type": "code",
      "metadata": {
        "id": "BgqXjof7WYbs",
        "colab_type": "code",
        "colab": {}
      },
      "source": [
        "from keras.utils import to_categorical\n",
        "\n",
        "train_labels = to_categorical(train_labels)\n",
        "test_labels = to_categorical(test_labels)"
      ],
      "execution_count": 0,
      "outputs": []
    },
    {
      "cell_type": "markdown",
      "metadata": {
        "colab_type": "text",
        "id": "borgvpZnbFQf"
      },
      "source": [
        "### 3. Build a model \n",
        "Using `Sequential()`, build a five-fully connect layer with 128 neuron each, *elu* as an activation function, and *he_initialier* as a weight initialier function. \n",
        "The output is a probability of each target class *softmax* as an activation function. We will use *Adam optimizer* with the *cross-entropy loss function*."
      ]
    },
    {
      "cell_type": "code",
      "metadata": {
        "colab_type": "code",
        "id": "1UQHj70jbFQg",
        "outputId": "87e16673-e15e-42f3-a4b3-2482d870c6b0",
        "colab": {
          "base_uri": "https://localhost:8080/",
          "height": 207
        }
      },
      "source": [
        "from keras import models\n",
        "from keras import layers\n",
        "from keras import initializers\n",
        "\n",
        "network = models.Sequential()\n",
        "network.add(layers.Dense(128, activation='elu',input_shape=(28*28,),kernel_initializer='he_normal'))\n",
        "network.add(layers.Dense(128, activation='elu',kernel_initializer='he_normal'))\n",
        "network.add(layers.Dense(128, activation='elu',kernel_initializer='he_normal'))\n",
        "network.add(layers.Dense(128, activation='elu',kernel_initializer='he_normal'))\n",
        "network.add(layers.Dense(10, activation='softmax'))\n",
        "\n",
        "# save model\n",
        "network.save('dnn_model.h5')"
      ],
      "execution_count": 0,
      "outputs": [
        {
          "output_type": "stream",
          "text": [
            "WARNING:tensorflow:From /usr/local/lib/python3.6/dist-packages/keras/backend/tensorflow_backend.py:66: The name tf.get_default_graph is deprecated. Please use tf.compat.v1.get_default_graph instead.\n",
            "\n",
            "WARNING:tensorflow:From /usr/local/lib/python3.6/dist-packages/keras/backend/tensorflow_backend.py:541: The name tf.placeholder is deprecated. Please use tf.compat.v1.placeholder instead.\n",
            "\n",
            "WARNING:tensorflow:From /usr/local/lib/python3.6/dist-packages/keras/backend/tensorflow_backend.py:4479: The name tf.truncated_normal is deprecated. Please use tf.random.truncated_normal instead.\n",
            "\n",
            "WARNING:tensorflow:From /usr/local/lib/python3.6/dist-packages/keras/backend/tensorflow_backend.py:4432: The name tf.random_uniform is deprecated. Please use tf.random.uniform instead.\n",
            "\n",
            "WARNING:tensorflow:From /usr/local/lib/python3.6/dist-packages/keras/backend/tensorflow_backend.py:190: The name tf.get_default_session is deprecated. Please use tf.compat.v1.get_default_session instead.\n",
            "\n"
          ],
          "name": "stdout"
        }
      ]
    },
    {
      "cell_type": "code",
      "metadata": {
        "id": "k9nzA_9cYzeD",
        "colab_type": "code",
        "outputId": "3ae4e17f-65cf-4373-8a03-88ca921df8ea",
        "colab": {
          "base_uri": "https://localhost:8080/",
          "height": 71
        }
      },
      "source": [
        "network.compile(optimizer= 'adam', \n",
        "                loss='categorical_crossentropy', \n",
        "                metrics=['accuracy'])"
      ],
      "execution_count": 0,
      "outputs": [
        {
          "output_type": "stream",
          "text": [
            "WARNING:tensorflow:From /usr/local/lib/python3.6/dist-packages/keras/optimizers.py:793: The name tf.train.Optimizer is deprecated. Please use tf.compat.v1.train.Optimizer instead.\n",
            "\n"
          ],
          "name": "stdout"
        }
      ]
    },
    {
      "cell_type": "code",
      "metadata": {
        "id": "Ask7QdjNZLfQ",
        "colab_type": "code",
        "outputId": "2edd446c-4910-4abd-f992-86f4fa1966d0",
        "colab": {
          "base_uri": "https://localhost:8080/",
          "height": 323
        }
      },
      "source": [
        "network.summary()"
      ],
      "execution_count": 0,
      "outputs": [
        {
          "output_type": "stream",
          "text": [
            "Model: \"sequential_1\"\n",
            "_________________________________________________________________\n",
            "Layer (type)                 Output Shape              Param #   \n",
            "=================================================================\n",
            "dense_1 (Dense)              (None, 128)               100480    \n",
            "_________________________________________________________________\n",
            "dense_2 (Dense)              (None, 128)               16512     \n",
            "_________________________________________________________________\n",
            "dense_3 (Dense)              (None, 128)               16512     \n",
            "_________________________________________________________________\n",
            "dense_4 (Dense)              (None, 128)               16512     \n",
            "_________________________________________________________________\n",
            "dense_5 (Dense)              (None, 10)                1290      \n",
            "=================================================================\n",
            "Total params: 151,306\n",
            "Trainable params: 151,306\n",
            "Non-trainable params: 0\n",
            "_________________________________________________________________\n"
          ],
          "name": "stdout"
        }
      ]
    },
    {
      "cell_type": "markdown",
      "metadata": {
        "colab_type": "text",
        "id": "sXlzipA9bFQj"
      },
      "source": [
        "### 4. Train the model\n",
        "\n",
        "We will train a total of 10 epoch and a batch size of 128. \n",
        "\n",
        "To prevent an information leak to test set, which casue an overfit, we will split the data to train set, test set, and validation set. Doing so, we will split the training data into 90% train set and 10% validation set.\n",
        "\n",
        "Since keras `validation_split` argument split the last 10% of data to be validation set, the target class may not be equally distributed in validation set. Thus, we have to use `train_test_split`  from sklearn to split the data into train set and validation set. \n",
        "\n",
        "Hint: Use parameter `stratify = y` in `train_test_split()`\n",
        "See http://scikit-learn.org/stable/modules/generated/sklearn.model_selection.train_test_split.html"
      ]
    },
    {
      "cell_type": "code",
      "metadata": {
        "colab_type": "code",
        "id": "N62JfVhZbFQl",
        "colab": {}
      },
      "source": [
        "from sklearn.model_selection import train_test_split\n",
        "\n",
        "### Split data ###\n",
        "train_images, valid_images, train_labels, valid_labels = train_test_split(train_images,train_labels,test_size=0.1,stratify = train_labels, random_state=42)"
      ],
      "execution_count": 0,
      "outputs": []
    },
    {
      "cell_type": "code",
      "metadata": {
        "colab_type": "code",
        "id": "dD9ViZ2WbFQn",
        "outputId": "863b0a87-15f6-4f76-8069-781cb678d842",
        "colab": {
          "base_uri": "https://localhost:8080/",
          "height": 445
        }
      },
      "source": [
        "### Fit the model ###\n",
        "history = network.fit(train_images,train_labels,epochs=10,batch_size=128,validation_data=(valid_images,valid_labels))\n",
        "#####################"
      ],
      "execution_count": 0,
      "outputs": [
        {
          "output_type": "stream",
          "text": [
            "WARNING:tensorflow:From /usr/local/lib/python3.6/dist-packages/tensorflow/python/ops/math_grad.py:1250: add_dispatch_support.<locals>.wrapper (from tensorflow.python.ops.array_ops) is deprecated and will be removed in a future version.\n",
            "Instructions for updating:\n",
            "Use tf.where in 2.0, which has the same broadcast rule as np.where\n",
            "Train on 54000 samples, validate on 6000 samples\n",
            "Epoch 1/10\n",
            "54000/54000 [==============================] - 3s 59us/step - loss: 0.2716 - acc: 0.9172 - val_loss: 0.1674 - val_acc: 0.9510\n",
            "Epoch 2/10\n",
            "54000/54000 [==============================] - 3s 50us/step - loss: 0.1201 - acc: 0.9628 - val_loss: 0.1224 - val_acc: 0.9627\n",
            "Epoch 3/10\n",
            "54000/54000 [==============================] - 3s 50us/step - loss: 0.0866 - acc: 0.9732 - val_loss: 0.1121 - val_acc: 0.9665\n",
            "Epoch 4/10\n",
            "54000/54000 [==============================] - 3s 49us/step - loss: 0.0661 - acc: 0.9785 - val_loss: 0.1101 - val_acc: 0.9683\n",
            "Epoch 5/10\n",
            "54000/54000 [==============================] - 3s 49us/step - loss: 0.0519 - acc: 0.9829 - val_loss: 0.1128 - val_acc: 0.9683\n",
            "Epoch 6/10\n",
            "54000/54000 [==============================] - 3s 50us/step - loss: 0.0425 - acc: 0.9859 - val_loss: 0.1112 - val_acc: 0.9718\n",
            "Epoch 7/10\n",
            "54000/54000 [==============================] - 3s 50us/step - loss: 0.0371 - acc: 0.9874 - val_loss: 0.1217 - val_acc: 0.9708\n",
            "Epoch 8/10\n",
            "54000/54000 [==============================] - 3s 52us/step - loss: 0.0331 - acc: 0.9883 - val_loss: 0.1056 - val_acc: 0.9718\n",
            "Epoch 9/10\n",
            "54000/54000 [==============================] - 3s 50us/step - loss: 0.0256 - acc: 0.9916 - val_loss: 0.1169 - val_acc: 0.9740\n",
            "Epoch 10/10\n",
            "54000/54000 [==============================] - 3s 51us/step - loss: 0.0267 - acc: 0.9908 - val_loss: 0.1209 - val_acc: 0.9740\n"
          ],
          "name": "stdout"
        }
      ]
    },
    {
      "cell_type": "markdown",
      "metadata": {
        "colab_type": "text",
        "id": "xqVNtsgBbFQq"
      },
      "source": [
        "### 5. Evalute the model\n",
        "\n",
        "Think of the metric that you want to evaluate/measure the performance of your model that can answer the following questions:\n",
        "- The model is overfit or underfit.\n",
        "- At which epoch/iteration that it converge or the model become overfit.\n",
        "- How does the model perform on each data class. What is an overall performace of your model?"
      ]
    },
    {
      "cell_type": "code",
      "metadata": {
        "colab_type": "code",
        "id": "3-SD-f9XbFQr",
        "outputId": "39f5abc2-faef-4175-d77f-bdd028aee931",
        "colab": {
          "base_uri": "https://localhost:8080/",
          "height": 204
        }
      },
      "source": [
        "### Evaluate the model ###\n",
        "\n",
        "##########################\n",
        "\n",
        "test_loss, test_acc = network.evaluate(test_images, test_labels)\n",
        "print('Test Loss: %s\\nTest Accuracy: %s\\n' % (test_loss,test_acc))\n",
        "\n",
        "train_loss, train_acc = network.evaluate(train_images, train_labels)\n",
        "print('Train Loss: %s\\nTrain Accuracy: %s\\n' % (train_loss,train_acc))\n",
        "\n",
        "valid_loss, valid_acc = network.evaluate(valid_images, valid_labels)\n",
        "print('Valid Loss: %s\\nValid Accuracy: %s' % (valid_loss,valid_acc))"
      ],
      "execution_count": 0,
      "outputs": [
        {
          "output_type": "stream",
          "text": [
            "10000/10000 [==============================] - 1s 52us/step\n",
            "Test Loss: 0.10542656123014676\n",
            "Test Accuracy: 0.9753\n",
            "\n",
            "54000/54000 [==============================] - 3s 53us/step\n",
            "Train Loss: 0.021687874732959446\n",
            "Train Accuracy: 0.9928148148148148\n",
            "\n",
            "6000/6000 [==============================] - 0s 56us/step\n",
            "Valid Loss: 0.12092612728336825\n",
            "Valid Accuracy: 0.974\n"
          ],
          "name": "stdout"
        }
      ]
    },
    {
      "cell_type": "code",
      "metadata": {
        "id": "mhPBrdxrbJ5f",
        "colab_type": "code",
        "outputId": "959a7a66-57d6-4c4a-e61d-04e81a0fd368",
        "colab": {
          "base_uri": "https://localhost:8080/",
          "height": 476
        }
      },
      "source": [
        "from sklearn.metrics import classification_report, confusion_matrix\n",
        "\n",
        "### evaluate your model ###\n",
        "\n",
        "###########################\n",
        "pred = network.predict(test_images)\n",
        "\n",
        "print(confusion_matrix(test_labels.argmax(axis=1), pred.argmax(axis=1)))\n",
        "print(classification_report(test_labels.argmax(axis=1),pred.argmax(axis=1)))"
      ],
      "execution_count": 0,
      "outputs": [
        {
          "output_type": "stream",
          "text": [
            "[[ 958    0    1    1    0    7    9    1    3    0]\n",
            " [   0 1129    1    0    0    1    1    1    2    0]\n",
            " [   2    3 1003    5    1    0    2   10    5    1]\n",
            " [   0    0    2  984    0    2    0    9    7    6]\n",
            " [   0    0    4    0  941    1    4    3    0   29]\n",
            " [   1    1    0   12    0  865    8    1    3    1]\n",
            " [   1    3    2    1    6    6  937    0    2    0]\n",
            " [   0    7    4    1    0    1    0 1005    2    8]\n",
            " [   2    0    2    3    3    4    1    5  950    4]\n",
            " [   5    2    0    3    8    7    0    0    3  981]]\n",
            "              precision    recall  f1-score   support\n",
            "\n",
            "           0       0.99      0.98      0.98       980\n",
            "           1       0.99      0.99      0.99      1135\n",
            "           2       0.98      0.97      0.98      1032\n",
            "           3       0.97      0.97      0.97      1010\n",
            "           4       0.98      0.96      0.97       982\n",
            "           5       0.97      0.97      0.97       892\n",
            "           6       0.97      0.98      0.98       958\n",
            "           7       0.97      0.98      0.97      1028\n",
            "           8       0.97      0.98      0.97       974\n",
            "           9       0.95      0.97      0.96      1009\n",
            "\n",
            "    accuracy                           0.98     10000\n",
            "   macro avg       0.98      0.97      0.98     10000\n",
            "weighted avg       0.98      0.98      0.98     10000\n",
            "\n"
          ],
          "name": "stdout"
        }
      ]
    },
    {
      "cell_type": "code",
      "metadata": {
        "id": "EkQStgvoaUu3",
        "colab_type": "code",
        "colab": {}
      },
      "source": [
        "import  matplotlib.pyplot  as plt\n",
        "%matplotlib inline"
      ],
      "execution_count": 0,
      "outputs": []
    },
    {
      "cell_type": "code",
      "metadata": {
        "id": "ZuqmPlOHaXr0",
        "colab_type": "code",
        "colab": {}
      },
      "source": [
        "# The function argument is a record or history of the model during training process.\n",
        "def plot_loss_fn(history):\n",
        "    loss = history.history['loss']\n",
        "    val_loss = history.history['val_loss']\n",
        "\n",
        "    epochs = range(1, len(loss) + 1)\n",
        "    \n",
        "#     plt.figure(figsize=(9,5))\n",
        "    plt.plot(epochs, loss, 'c', label='Training loss')\n",
        "    plt.plot(epochs, val_loss, 'y', label='Validation loss')\n",
        "    plt.title('Training and validation loss')\n",
        "    plt.xlabel('Epochs')\n",
        "    plt.ylabel('Loss')\n",
        "    plt.legend()\n",
        "    \n",
        "def plot_acc_fn(history):\n",
        "\n",
        "    acc = history.history['acc']\n",
        "    val_acc = history.history['val_acc']\n",
        "    \n",
        "    epochs = range(1, len(acc) + 1)\n",
        "    \n",
        "#     plt.figure(figsize=(9,5))\n",
        "    plt.plot(epochs, acc, 'c', label='Training acc')\n",
        "    plt.plot(epochs, val_acc, 'y', label='Validation acc')\n",
        "    plt.title('Training and validation accuracy')\n",
        "    plt.xlabel('Epochs')\n",
        "    plt.ylabel('Accuracy')\n",
        "    plt.legend()"
      ],
      "execution_count": 0,
      "outputs": []
    },
    {
      "cell_type": "code",
      "metadata": {
        "id": "XsfWDp3IaYJ5",
        "colab_type": "code",
        "outputId": "983a92c1-84d7-4735-cfe9-fe393f656d86",
        "colab": {
          "base_uri": "https://localhost:8080/",
          "height": 295
        }
      },
      "source": [
        "plot_acc_fn(history)"
      ],
      "execution_count": 0,
      "outputs": [
        {
          "output_type": "display_data",
          "data": {
            "image/png": "[encoded data removed]",
            "text/plain": [
              "<Figure size 432x288 with 1 Axes>"
            ]
          },
          "metadata": {
            "tags": []
          }
        }
      ]
    },
    {
      "cell_type": "code",
      "metadata": {
        "id": "HDLcFGUEaajd",
        "colab_type": "code",
        "outputId": "09afc092-b548-41ed-bd16-786bd9d26dc6",
        "colab": {
          "base_uri": "https://localhost:8080/",
          "height": 295
        }
      },
      "source": [
        "plot_loss_fn(history)"
      ],
      "execution_count": 0,
      "outputs": [
        {
          "output_type": "display_data",
          "data": {
            "image/png": "[encoded data removed]",
            "text/plain": [
              "<Figure size 432x288 with 1 Axes>"
            ]
          },
          "metadata": {
            "tags": []
          }
        }
      ]
    },
    {
      "cell_type": "markdown",
      "metadata": {
        "id": "xN13xQ_wMj7s",
        "colab_type": "text"
      },
      "source": [
        "ANS :"
      ]
    },
    {
      "cell_type": "markdown",
      "metadata": {
        "colab_type": "text",
        "id": "MlI3w3wqbFQu"
      },
      "source": [
        "### 6. Tune the model \n",
        "\n",
        "Try to tune your model by: \n",
        "1. Try Increasing epoch and see how it affect your model? Does the result better or it get overfit?\n",
        "2. Apply an early stop. What is the result do you get? (See https://chrisalbon.com/deep_learning/keras/neural_network_early_stopping/)\n",
        "4. Try adding regularizer l1 or l2 (or simutaneus l1, l2) to your model. How does it affect your model?\n",
        "5. Try to add dropout (any dropout rate) with every layer. How does it affect your model? Does it help reduce overfit?\n",
        "\n",
        "*Discuss the result from these step in the discssion section*\n",
        "\n",
        "After try above step, **try to achive the highest precision** by tuning the model using what you had aleady learn in the class.\n",
        "You can try to change the structure of the model by increase or decrease the layer and neuron node in each layer. (Use only fully-connect layer, don't use other type of layer yet!)\n",
        "\n",
        "You can also try to do a data augmentation.\n",
        "\n",
        "**The current highest precision of MNIST model is around 99.8%** ( Just try as must as possible, don't worry if you don't achieve this number of precision.)\n",
        "\n",
        "**Write  down what are you doing and why in each tuning step**"
      ]
    },
    {
      "cell_type": "markdown",
      "metadata": {
        "id": "y8l4ZE6VcrNk",
        "colab_type": "text"
      },
      "source": [
        "#### Increase Epoch"
      ]
    },
    {
      "cell_type": "code",
      "metadata": {
        "colab_type": "code",
        "id": "8SIXC6klbFQu",
        "outputId": "d1775726-fb92-4d1a-ec95-d3740b1f4022",
        "colab": {
          "base_uri": "https://localhost:8080/",
          "height": 71
        }
      },
      "source": [
        "# Load original model\n",
        "network = models.load_model('dnn_model.h5')"
      ],
      "execution_count": 0,
      "outputs": [
        {
          "output_type": "stream",
          "text": [
            "/usr/local/lib/python3.6/dist-packages/keras/engine/saving.py:310: UserWarning: No training configuration found in save file: the model was *not* compiled. Compile it manually.\n",
            "  warnings.warn('No training configuration found in save file: '\n"
          ],
          "name": "stderr"
        }
      ]
    },
    {
      "cell_type": "code",
      "metadata": {
        "id": "G8izjdrzb7FH",
        "colab_type": "code",
        "colab": {}
      },
      "source": [
        "network.compile(optimizer= 'adam', \n",
        "                loss='categorical_crossentropy', \n",
        "                metrics=['accuracy'])"
      ],
      "execution_count": 0,
      "outputs": []
    },
    {
      "cell_type": "code",
      "metadata": {
        "id": "hvIv1vxqb8Rz",
        "colab_type": "code",
        "outputId": "4b137c1c-fb7e-402b-e28b-1536917db373",
        "colab": {
          "base_uri": "https://localhost:8080/",
          "height": 323
        }
      },
      "source": [
        "network.summary()"
      ],
      "execution_count": 0,
      "outputs": [
        {
          "output_type": "stream",
          "text": [
            "Model: \"sequential_1\"\n",
            "_________________________________________________________________\n",
            "Layer (type)                 Output Shape              Param #   \n",
            "=================================================================\n",
            "dense_1 (Dense)              (None, 128)               100480    \n",
            "_________________________________________________________________\n",
            "dense_2 (Dense)              (None, 128)               16512     \n",
            "_________________________________________________________________\n",
            "dense_3 (Dense)              (None, 128)               16512     \n",
            "_________________________________________________________________\n",
            "dense_4 (Dense)              (None, 128)               16512     \n",
            "_________________________________________________________________\n",
            "dense_5 (Dense)              (None, 10)                1290      \n",
            "=================================================================\n",
            "Total params: 151,306\n",
            "Trainable params: 151,306\n",
            "Non-trainable params: 0\n",
            "_________________________________________________________________\n"
          ],
          "name": "stdout"
        }
      ]
    },
    {
      "cell_type": "code",
      "metadata": {
        "id": "oLzjoOsVbZ6K",
        "colab_type": "code",
        "outputId": "b43d2739-5730-44ae-95cb-579c5171cefe",
        "colab": {
          "base_uri": "https://localhost:8080/",
          "height": 1000
        }
      },
      "source": [
        "history_epc = network.fit(train_images,train_labels,epochs=50,batch_size=128,validation_data=(valid_images,valid_labels))"
      ],
      "execution_count": 0,
      "outputs": [
        {
          "output_type": "stream",
          "text": [
            "Train on 54000 samples, validate on 6000 samples\n",
            "Epoch 1/50\n",
            "54000/54000 [==============================] - 3s 60us/step - loss: 0.2709 - acc: 0.9161 - val_loss: 0.1582 - val_acc: 0.9548\n",
            "Epoch 2/50\n",
            "54000/54000 [==============================] - 3s 52us/step - loss: 0.1218 - acc: 0.9623 - val_loss: 0.1208 - val_acc: 0.9643\n",
            "Epoch 3/50\n",
            "54000/54000 [==============================] - 3s 51us/step - loss: 0.0845 - acc: 0.9738 - val_loss: 0.1181 - val_acc: 0.9650\n",
            "Epoch 4/50\n",
            "54000/54000 [==============================] - 3s 53us/step - loss: 0.0658 - acc: 0.9792 - val_loss: 0.1009 - val_acc: 0.9733\n",
            "Epoch 5/50\n",
            "54000/54000 [==============================] - 3s 52us/step - loss: 0.0516 - acc: 0.9831 - val_loss: 0.0998 - val_acc: 0.9698\n",
            "Epoch 6/50\n",
            "54000/54000 [==============================] - 3s 51us/step - loss: 0.0444 - acc: 0.9849 - val_loss: 0.1012 - val_acc: 0.9727\n",
            "Epoch 7/50\n",
            "54000/54000 [==============================] - 3s 50us/step - loss: 0.0351 - acc: 0.9880 - val_loss: 0.1169 - val_acc: 0.9700\n",
            "Epoch 8/50\n",
            "54000/54000 [==============================] - 3s 51us/step - loss: 0.0321 - acc: 0.9892 - val_loss: 0.1045 - val_acc: 0.9750\n",
            "Epoch 9/50\n",
            "54000/54000 [==============================] - 3s 51us/step - loss: 0.0261 - acc: 0.9917 - val_loss: 0.1106 - val_acc: 0.9745\n",
            "Epoch 10/50\n",
            "54000/54000 [==============================] - 3s 52us/step - loss: 0.0289 - acc: 0.9902 - val_loss: 0.1076 - val_acc: 0.9755\n",
            "Epoch 11/50\n",
            "54000/54000 [==============================] - 3s 50us/step - loss: 0.0256 - acc: 0.9913 - val_loss: 0.1118 - val_acc: 0.9765\n",
            "Epoch 12/50\n",
            "54000/54000 [==============================] - 3s 50us/step - loss: 0.0229 - acc: 0.9924 - val_loss: 0.1252 - val_acc: 0.9737\n",
            "Epoch 13/50\n",
            "54000/54000 [==============================] - 3s 51us/step - loss: 0.0204 - acc: 0.9934 - val_loss: 0.1107 - val_acc: 0.9778\n",
            "Epoch 14/50\n",
            "54000/54000 [==============================] - 3s 52us/step - loss: 0.0174 - acc: 0.9941 - val_loss: 0.1181 - val_acc: 0.9755\n",
            "Epoch 15/50\n",
            "54000/54000 [==============================] - 3s 51us/step - loss: 0.0173 - acc: 0.9942 - val_loss: 0.1388 - val_acc: 0.9727\n",
            "Epoch 16/50\n",
            "54000/54000 [==============================] - 3s 53us/step - loss: 0.0129 - acc: 0.9955 - val_loss: 0.1351 - val_acc: 0.9715\n",
            "Epoch 17/50\n",
            "54000/54000 [==============================] - 3s 51us/step - loss: 0.0157 - acc: 0.9949 - val_loss: 0.1329 - val_acc: 0.9743\n",
            "Epoch 18/50\n",
            "54000/54000 [==============================] - 3s 51us/step - loss: 0.0200 - acc: 0.9939 - val_loss: 0.1192 - val_acc: 0.9747\n",
            "Epoch 19/50\n",
            "54000/54000 [==============================] - 3s 51us/step - loss: 0.0099 - acc: 0.9966 - val_loss: 0.1441 - val_acc: 0.9730\n",
            "Epoch 20/50\n",
            "54000/54000 [==============================] - 3s 52us/step - loss: 0.0193 - acc: 0.9942 - val_loss: 0.1246 - val_acc: 0.9765\n",
            "Epoch 21/50\n",
            "54000/54000 [==============================] - 3s 51us/step - loss: 0.0133 - acc: 0.9959 - val_loss: 0.1241 - val_acc: 0.9777\n",
            "Epoch 22/50\n",
            "54000/54000 [==============================] - 3s 51us/step - loss: 0.0075 - acc: 0.9974 - val_loss: 0.1467 - val_acc: 0.9753\n",
            "Epoch 23/50\n",
            "54000/54000 [==============================] - 3s 50us/step - loss: 0.0136 - acc: 0.9956 - val_loss: 0.1529 - val_acc: 0.9752\n",
            "Epoch 24/50\n",
            "54000/54000 [==============================] - 3s 50us/step - loss: 0.0161 - acc: 0.9950 - val_loss: 0.1413 - val_acc: 0.9777\n",
            "Epoch 25/50\n",
            "54000/54000 [==============================] - 3s 52us/step - loss: 0.0155 - acc: 0.9954 - val_loss: 0.1519 - val_acc: 0.9727\n",
            "Epoch 26/50\n",
            "54000/54000 [==============================] - 3s 51us/step - loss: 0.0111 - acc: 0.9966 - val_loss: 0.1372 - val_acc: 0.9775\n",
            "Epoch 27/50\n",
            "54000/54000 [==============================] - 3s 51us/step - loss: 0.0089 - acc: 0.9972 - val_loss: 0.1464 - val_acc: 0.9773\n",
            "Epoch 28/50\n",
            "54000/54000 [==============================] - 3s 49us/step - loss: 0.0126 - acc: 0.9966 - val_loss: 0.1534 - val_acc: 0.9767\n",
            "Epoch 29/50\n",
            "54000/54000 [==============================] - 3s 51us/step - loss: 0.0117 - acc: 0.9961 - val_loss: 0.1374 - val_acc: 0.9778\n",
            "Epoch 30/50\n",
            "54000/54000 [==============================] - 3s 52us/step - loss: 0.0057 - acc: 0.9982 - val_loss: 0.1282 - val_acc: 0.9785\n",
            "Epoch 31/50\n",
            "54000/54000 [==============================] - 3s 50us/step - loss: 0.0129 - acc: 0.9962 - val_loss: 0.1697 - val_acc: 0.9720\n",
            "Epoch 32/50\n",
            "54000/54000 [==============================] - 3s 53us/step - loss: 0.0122 - acc: 0.9964 - val_loss: 0.1570 - val_acc: 0.9762\n",
            "Epoch 33/50\n",
            "54000/54000 [==============================] - 3s 51us/step - loss: 0.0093 - acc: 0.9975 - val_loss: 0.1472 - val_acc: 0.9772\n",
            "Epoch 34/50\n",
            "54000/54000 [==============================] - 3s 52us/step - loss: 0.0100 - acc: 0.9972 - val_loss: 0.1641 - val_acc: 0.9755\n",
            "Epoch 35/50\n",
            "54000/54000 [==============================] - 3s 53us/step - loss: 0.0142 - acc: 0.9959 - val_loss: 0.1237 - val_acc: 0.9813\n",
            "Epoch 36/50\n",
            "54000/54000 [==============================] - 3s 51us/step - loss: 0.0072 - acc: 0.9979 - val_loss: 0.1348 - val_acc: 0.9778\n",
            "Epoch 37/50\n",
            "54000/54000 [==============================] - 3s 52us/step - loss: 0.0045 - acc: 0.9985 - val_loss: 0.1446 - val_acc: 0.9775\n",
            "Epoch 38/50\n",
            "54000/54000 [==============================] - 3s 50us/step - loss: 0.0124 - acc: 0.9964 - val_loss: 0.1612 - val_acc: 0.9778\n",
            "Epoch 39/50\n",
            "54000/54000 [==============================] - 3s 53us/step - loss: 0.0140 - acc: 0.9960 - val_loss: 0.1500 - val_acc: 0.9790\n",
            "Epoch 40/50\n",
            "54000/54000 [==============================] - 3s 53us/step - loss: 0.0066 - acc: 0.9981 - val_loss: 0.1489 - val_acc: 0.9762\n",
            "Epoch 41/50\n",
            "54000/54000 [==============================] - 3s 55us/step - loss: 0.0075 - acc: 0.9976 - val_loss: 0.1560 - val_acc: 0.9778\n",
            "Epoch 42/50\n",
            "54000/54000 [==============================] - 3s 52us/step - loss: 0.0090 - acc: 0.9973 - val_loss: 0.1797 - val_acc: 0.9737\n",
            "Epoch 43/50\n",
            "54000/54000 [==============================] - 3s 51us/step - loss: 0.0157 - acc: 0.9956 - val_loss: 0.1368 - val_acc: 0.9787\n",
            "Epoch 44/50\n",
            "54000/54000 [==============================] - 3s 51us/step - loss: 0.0072 - acc: 0.9980 - val_loss: 0.1241 - val_acc: 0.9802\n",
            "Epoch 45/50\n",
            "54000/54000 [==============================] - 3s 51us/step - loss: 0.0030 - acc: 0.9992 - val_loss: 0.1337 - val_acc: 0.9810\n",
            "Epoch 46/50\n",
            "54000/54000 [==============================] - 3s 50us/step - loss: 0.0037 - acc: 0.9992 - val_loss: 0.1340 - val_acc: 0.9813\n",
            "Epoch 47/50\n",
            "54000/54000 [==============================] - 3s 52us/step - loss: 0.0142 - acc: 0.9960 - val_loss: 0.1893 - val_acc: 0.9728\n",
            "Epoch 48/50\n",
            "54000/54000 [==============================] - 3s 52us/step - loss: 0.0157 - acc: 0.9960 - val_loss: 0.1841 - val_acc: 0.9755\n",
            "Epoch 49/50\n",
            "54000/54000 [==============================] - 3s 50us/step - loss: 0.0054 - acc: 0.9983 - val_loss: 0.1366 - val_acc: 0.9800\n",
            "Epoch 50/50\n",
            "54000/54000 [==============================] - 3s 53us/step - loss: 0.0066 - acc: 0.9980 - val_loss: 0.1464 - val_acc: 0.9760\n"
          ],
          "name": "stdout"
        }
      ]
    },
    {
      "cell_type": "code",
      "metadata": {
        "id": "62I-Iv1fc2Aj",
        "colab_type": "code",
        "outputId": "f2a325d4-4586-48f1-fd1e-9acf3463c416",
        "colab": {
          "base_uri": "https://localhost:8080/",
          "height": 136
        }
      },
      "source": [
        "train_loss, train_acc = network.evaluate(train_images, train_labels)\n",
        "print('Train Loss: %s\\nTrain Accuracy: %s\\n' % (train_loss,train_acc))\n",
        "\n",
        "valid_loss, valid_acc = network.evaluate(valid_images, valid_labels)\n",
        "print('Valid Loss: %s\\nValid Accuracy: %s' % (valid_loss,valid_acc))"
      ],
      "execution_count": 0,
      "outputs": [
        {
          "output_type": "stream",
          "text": [
            "54000/54000 [==============================] - 3s 55us/step\n",
            "Train Loss: 0.005388687918649234\n",
            "Train Accuracy: 0.9983888888888889\n",
            "\n",
            "6000/6000 [==============================] - 0s 63us/step\n",
            "Valid Loss: 0.14639449417598113\n",
            "Valid Accuracy: 0.976\n"
          ],
          "name": "stdout"
        }
      ]
    },
    {
      "cell_type": "code",
      "metadata": {
        "id": "qOhhxAscc2dJ",
        "colab_type": "code",
        "outputId": "b595c8d2-f8d1-400c-8f0c-edc8026c4258",
        "colab": {
          "base_uri": "https://localhost:8080/",
          "height": 295
        }
      },
      "source": [
        "plot_acc_fn(history_epc)"
      ],
      "execution_count": 0,
      "outputs": [
        {
          "output_type": "display_data",
          "data": {
            "image/png": "[encoded data removed]",
            "text/plain": [
              "<Figure size 432x288 with 1 Axes>"
            ]
          },
          "metadata": {
            "tags": []
          }
        }
      ]
    },
    {
      "cell_type": "code",
      "metadata": {
        "id": "8vsOO9FDdA5T",
        "colab_type": "code",
        "outputId": "0ef5dfb5-8d12-4971-b3e6-54762b9431f4",
        "colab": {
          "base_uri": "https://localhost:8080/",
          "height": 295
        }
      },
      "source": [
        "plot_loss_fn(history_epc)"
      ],
      "execution_count": 0,
      "outputs": [
        {
          "output_type": "display_data",
          "data": {
            "image/png": "[encoded data removed]",
            "text/plain": [
              "<Figure size 432x288 with 1 Axes>"
            ]
          },
          "metadata": {
            "tags": []
          }
        }
      ]
    },
    {
      "cell_type": "markdown",
      "metadata": {
        "id": "XDCVbPUWefPw",
        "colab_type": "text"
      },
      "source": [
        "#### Adding Early Stopping"
      ]
    },
    {
      "cell_type": "code",
      "metadata": {
        "id": "FDzXFckBjTGI",
        "colab_type": "code",
        "outputId": "58c15495-99e0-4c48-a2b3-bd44e3e67f63",
        "colab": {
          "base_uri": "https://localhost:8080/",
          "height": 71
        }
      },
      "source": [
        "# Load original model\n",
        "network = models.load_model('dnn_model.h5')"
      ],
      "execution_count": 0,
      "outputs": [
        {
          "output_type": "stream",
          "text": [
            "/usr/local/lib/python3.6/dist-packages/keras/engine/saving.py:310: UserWarning: No training configuration found in save file: the model was *not* compiled. Compile it manually.\n",
            "  warnings.warn('No training configuration found in save file: '\n"
          ],
          "name": "stderr"
        }
      ]
    },
    {
      "cell_type": "code",
      "metadata": {
        "id": "9qIf4npejVCZ",
        "colab_type": "code",
        "colab": {}
      },
      "source": [
        "network.compile(optimizer= 'adam', \n",
        "                loss='categorical_crossentropy', \n",
        "                metrics=['accuracy'])"
      ],
      "execution_count": 0,
      "outputs": []
    },
    {
      "cell_type": "code",
      "metadata": {
        "id": "3_zxldHTed9V",
        "colab_type": "code",
        "colab": {}
      },
      "source": [
        "# Set callback functions to early stop training and save the best model so far\n",
        "from keras.callbacks import EarlyStopping, ModelCheckpoint\n",
        "\n",
        "callbacks = [EarlyStopping(monitor='val_loss', patience=2),\n",
        "             ModelCheckpoint(filepath='best_model.h5', monitor='val_loss', save_best_only=True)]"
      ],
      "execution_count": 0,
      "outputs": []
    },
    {
      "cell_type": "code",
      "metadata": {
        "id": "lmm3XtUqjY-L",
        "colab_type": "code",
        "outputId": "034a8ac5-2691-41c8-9d7f-ebc4b2d40e04",
        "colab": {
          "base_uri": "https://localhost:8080/",
          "height": 238
        }
      },
      "source": [
        "history_early = network.fit(train_images,train_labels,\n",
        "                          epochs=50,batch_size=128,\n",
        "                          callbacks=callbacks,\n",
        "                          validation_data=(valid_images,valid_labels))"
      ],
      "execution_count": 0,
      "outputs": [
        {
          "output_type": "stream",
          "text": [
            "Train on 54000 samples, validate on 6000 samples\n",
            "Epoch 1/50\n",
            "54000/54000 [==============================] - 3s 59us/step - loss: 0.2713 - acc: 0.9173 - val_loss: 0.1566 - val_acc: 0.9532\n",
            "Epoch 2/50\n",
            "54000/54000 [==============================] - 3s 50us/step - loss: 0.1207 - acc: 0.9631 - val_loss: 0.1285 - val_acc: 0.9602\n",
            "Epoch 3/50\n",
            "54000/54000 [==============================] - 3s 50us/step - loss: 0.0846 - acc: 0.9736 - val_loss: 0.1091 - val_acc: 0.9677\n",
            "Epoch 4/50\n",
            "54000/54000 [==============================] - 3s 50us/step - loss: 0.0675 - acc: 0.9781 - val_loss: 0.1059 - val_acc: 0.9683\n",
            "Epoch 5/50\n",
            "54000/54000 [==============================] - 3s 50us/step - loss: 0.0530 - acc: 0.9833 - val_loss: 0.1085 - val_acc: 0.9698\n",
            "Epoch 6/50\n",
            "54000/54000 [==============================] - 3s 50us/step - loss: 0.0434 - acc: 0.9854 - val_loss: 0.1075 - val_acc: 0.9710\n"
          ],
          "name": "stdout"
        }
      ]
    },
    {
      "cell_type": "code",
      "metadata": {
        "id": "cf_yVs2fj2fY",
        "colab_type": "code",
        "outputId": "0bdcfc6b-69c4-4248-b5d0-b0325223b2e2",
        "colab": {
          "base_uri": "https://localhost:8080/",
          "height": 136
        }
      },
      "source": [
        "train_loss, train_acc = network.evaluate(train_images, train_labels)\n",
        "print('Train Loss: %s\\nTrain Accuracy: %s\\n' % (train_loss,train_acc))\n",
        "\n",
        "valid_loss, valid_acc = network.evaluate(valid_images, valid_labels)\n",
        "print('Valid Loss: %s\\nValid Accuracy: %s' % (valid_loss,valid_acc))"
      ],
      "execution_count": 0,
      "outputs": [
        {
          "output_type": "stream",
          "text": [
            "54000/54000 [==============================] - 3s 55us/step\n",
            "Train Loss: 0.032584581508094235\n",
            "Train Accuracy: 0.9895\n",
            "\n",
            "6000/6000 [==============================] - 0s 54us/step\n",
            "Valid Loss: 0.10746426475513726\n",
            "Valid Accuracy: 0.971\n"
          ],
          "name": "stdout"
        }
      ]
    },
    {
      "cell_type": "code",
      "metadata": {
        "id": "Gqhl_LFxj85l",
        "colab_type": "code",
        "outputId": "470d11ae-b6b7-4e80-8448-6fda904702d0",
        "colab": {
          "base_uri": "https://localhost:8080/",
          "height": 295
        }
      },
      "source": [
        "plot_acc_fn(history_early)"
      ],
      "execution_count": 0,
      "outputs": [
        {
          "output_type": "display_data",
          "data": {
            "image/png": "[encoded data removed]",
            "text/plain": [
              "<Figure size 432x288 with 1 Axes>"
            ]
          },
          "metadata": {
            "tags": []
          }
        }
      ]
    },
    {
      "cell_type": "code",
      "metadata": {
        "id": "fP2Q0PcukDS5",
        "colab_type": "code",
        "outputId": "992997a4-bb97-4713-a720-63cb26c893f7",
        "colab": {
          "base_uri": "https://localhost:8080/",
          "height": 295
        }
      },
      "source": [
        "plot_loss_fn(history_early)"
      ],
      "execution_count": 0,
      "outputs": [
        {
          "output_type": "display_data",
          "data": {
            "image/png": "[encoded data removed]",
            "text/plain": [
              "<Figure size 432x288 with 1 Axes>"
            ]
          },
          "metadata": {
            "tags": []
          }
        }
      ]
    },
    {
      "cell_type": "markdown",
      "metadata": {
        "id": "RLsH0VCjGTRJ",
        "colab_type": "text"
      },
      "source": [
        "#### Adding Regularizer"
      ]
    },
    {
      "cell_type": "markdown",
      "metadata": {
        "id": "MN84ARQvMzxp",
        "colab_type": "text"
      },
      "source": [
        "##### l1 Regularizer"
      ]
    },
    {
      "cell_type": "code",
      "metadata": {
        "id": "WjjMwrLwKO96",
        "colab_type": "code",
        "colab": {}
      },
      "source": [
        "from keras import regularizers\n",
        "\n",
        "reg = regularizers.l1(0.001)\n",
        "\n",
        "network = models.Sequential()\n",
        "network.add(layers.Dense(128, activation='elu',input_shape=(28*28,),kernel_initializer='he_normal',activity_regularizer=reg))\n",
        "network.add(layers.Dense(128, activation='elu',kernel_initializer='he_normal',activity_regularizer=reg))\n",
        "network.add(layers.Dense(128, activation='elu',kernel_initializer='he_normal',activity_regularizer=reg))\n",
        "network.add(layers.Dense(128, activation='elu',kernel_initializer='he_normal',activity_regularizer=reg))\n",
        "network.add(layers.Dense(10, activation='softmax'))\n",
        "\n",
        "# save model\n",
        "network.save('dnn_reg_model.h5')\n",
        "\n",
        "network.compile(optimizer= 'adam', \n",
        "                loss='categorical_crossentropy', \n",
        "                metrics=['accuracy'])"
      ],
      "execution_count": 0,
      "outputs": []
    },
    {
      "cell_type": "code",
      "metadata": {
        "id": "KZwsK3IiKrJg",
        "colab_type": "code",
        "outputId": "2cb11eba-b460-47fc-dd73-e90396ed0254",
        "colab": {
          "base_uri": "https://localhost:8080/",
          "height": 1000
        }
      },
      "source": [
        "history_reg = network.fit(train_images,train_labels,\n",
        "                          epochs=50,batch_size=128,\n",
        "                          validation_data=(valid_images,valid_labels))"
      ],
      "execution_count": 0,
      "outputs": [
        {
          "output_type": "stream",
          "text": [
            "Train on 54000 samples, validate on 6000 samples\n",
            "Epoch 1/50\n",
            "54000/54000 [==============================] - 3s 65us/step - loss: 6.5875 - acc: 0.6021 - val_loss: 3.6549 - val_acc: 0.5673\n",
            "Epoch 2/50\n",
            "54000/54000 [==============================] - 3s 53us/step - loss: 3.1498 - acc: 0.6424 - val_loss: 2.6734 - val_acc: 0.7388\n",
            "Epoch 3/50\n",
            "54000/54000 [==============================] - 3s 54us/step - loss: 2.3920 - acc: 0.7937 - val_loss: 2.0849 - val_acc: 0.8323\n",
            "Epoch 4/50\n",
            "54000/54000 [==============================] - 3s 54us/step - loss: 1.9132 - acc: 0.8463 - val_loss: 1.7991 - val_acc: 0.8488\n",
            "Epoch 5/50\n",
            "54000/54000 [==============================] - 3s 54us/step - loss: 1.6613 - acc: 0.8617 - val_loss: 1.7230 - val_acc: 0.8042\n",
            "Epoch 6/50\n",
            "54000/54000 [==============================] - 3s 54us/step - loss: 1.4719 - acc: 0.8713 - val_loss: 1.3852 - val_acc: 0.8710\n",
            "Epoch 7/50\n",
            "54000/54000 [==============================] - 3s 54us/step - loss: 1.3273 - acc: 0.8766 - val_loss: 1.2873 - val_acc: 0.8683\n",
            "Epoch 8/50\n",
            "54000/54000 [==============================] - 3s 55us/step - loss: 1.2307 - acc: 0.8785 - val_loss: 1.2742 - val_acc: 0.8670\n",
            "Epoch 9/50\n",
            "54000/54000 [==============================] - 3s 55us/step - loss: 1.1471 - acc: 0.8832 - val_loss: 1.1216 - val_acc: 0.8817\n",
            "Epoch 10/50\n",
            "54000/54000 [==============================] - 3s 55us/step - loss: 1.1151 - acc: 0.8833 - val_loss: 1.1275 - val_acc: 0.8765\n",
            "Epoch 11/50\n",
            "54000/54000 [==============================] - 3s 55us/step - loss: 1.0665 - acc: 0.8865 - val_loss: 1.0747 - val_acc: 0.8717\n",
            "Epoch 12/50\n",
            "54000/54000 [==============================] - 3s 57us/step - loss: 1.0426 - acc: 0.8873 - val_loss: 1.0542 - val_acc: 0.8867\n",
            "Epoch 13/50\n",
            "54000/54000 [==============================] - 3s 57us/step - loss: 1.0386 - acc: 0.8862 - val_loss: 1.0365 - val_acc: 0.8747\n",
            "Epoch 14/50\n",
            "54000/54000 [==============================] - 3s 56us/step - loss: 0.9923 - acc: 0.8892 - val_loss: 1.0177 - val_acc: 0.8743\n",
            "Epoch 15/50\n",
            "54000/54000 [==============================] - 3s 53us/step - loss: 0.9905 - acc: 0.8885 - val_loss: 1.0366 - val_acc: 0.8817\n",
            "Epoch 16/50\n",
            "54000/54000 [==============================] - 3s 53us/step - loss: 0.9792 - acc: 0.8898 - val_loss: 1.0615 - val_acc: 0.8760\n",
            "Epoch 17/50\n",
            "54000/54000 [==============================] - 3s 54us/step - loss: 0.9530 - acc: 0.8911 - val_loss: 1.0365 - val_acc: 0.8647\n",
            "Epoch 18/50\n",
            "54000/54000 [==============================] - 3s 54us/step - loss: 0.9408 - acc: 0.8925 - val_loss: 1.0142 - val_acc: 0.8753\n",
            "Epoch 19/50\n",
            "54000/54000 [==============================] - 3s 54us/step - loss: 0.9402 - acc: 0.8919 - val_loss: 0.9604 - val_acc: 0.8775\n",
            "Epoch 20/50\n",
            "54000/54000 [==============================] - 3s 55us/step - loss: 0.9364 - acc: 0.8914 - val_loss: 0.9972 - val_acc: 0.8775\n",
            "Epoch 21/50\n",
            "54000/54000 [==============================] - 3s 54us/step - loss: 0.9112 - acc: 0.8936 - val_loss: 0.9652 - val_acc: 0.8698\n",
            "Epoch 22/50\n",
            "54000/54000 [==============================] - 3s 52us/step - loss: 0.9441 - acc: 0.8908 - val_loss: 1.0211 - val_acc: 0.8807\n",
            "Epoch 23/50\n",
            "54000/54000 [==============================] - 3s 54us/step - loss: 0.8948 - acc: 0.8934 - val_loss: 0.9439 - val_acc: 0.8823\n",
            "Epoch 24/50\n",
            "54000/54000 [==============================] - 3s 55us/step - loss: 0.8987 - acc: 0.8933 - val_loss: 0.9724 - val_acc: 0.8877\n",
            "Epoch 25/50\n",
            "54000/54000 [==============================] - 3s 56us/step - loss: 0.8933 - acc: 0.8936 - val_loss: 0.9350 - val_acc: 0.8863\n",
            "Epoch 26/50\n",
            "54000/54000 [==============================] - 3s 54us/step - loss: 0.8885 - acc: 0.8941 - val_loss: 0.9526 - val_acc: 0.8830\n",
            "Epoch 27/50\n",
            "54000/54000 [==============================] - 3s 54us/step - loss: 0.8827 - acc: 0.8956 - val_loss: 0.9291 - val_acc: 0.8785\n",
            "Epoch 28/50\n",
            "54000/54000 [==============================] - 3s 53us/step - loss: 0.8750 - acc: 0.8932 - val_loss: 0.9783 - val_acc: 0.8780\n",
            "Epoch 29/50\n",
            "54000/54000 [==============================] - 3s 54us/step - loss: 0.8802 - acc: 0.8959 - val_loss: 0.9099 - val_acc: 0.8912\n",
            "Epoch 30/50\n",
            "54000/54000 [==============================] - 3s 54us/step - loss: 0.8609 - acc: 0.8964 - val_loss: 0.9115 - val_acc: 0.8858\n",
            "Epoch 31/50\n",
            "54000/54000 [==============================] - 3s 53us/step - loss: 0.8791 - acc: 0.8955 - val_loss: 0.9388 - val_acc: 0.8802\n",
            "Epoch 32/50\n",
            "54000/54000 [==============================] - 3s 55us/step - loss: 0.8624 - acc: 0.8946 - val_loss: 0.9021 - val_acc: 0.8843\n",
            "Epoch 33/50\n",
            "54000/54000 [==============================] - 3s 53us/step - loss: 0.8694 - acc: 0.8964 - val_loss: 0.8768 - val_acc: 0.8848\n",
            "Epoch 34/50\n",
            "54000/54000 [==============================] - 3s 55us/step - loss: 0.8551 - acc: 0.8950 - val_loss: 0.9836 - val_acc: 0.8788\n",
            "Epoch 35/50\n",
            "54000/54000 [==============================] - 3s 55us/step - loss: 0.8580 - acc: 0.8957 - val_loss: 0.9169 - val_acc: 0.8780\n",
            "Epoch 36/50\n",
            "54000/54000 [==============================] - 3s 54us/step - loss: 0.8494 - acc: 0.8950 - val_loss: 0.8840 - val_acc: 0.8877\n",
            "Epoch 37/50\n",
            "54000/54000 [==============================] - 3s 54us/step - loss: 0.8433 - acc: 0.8963 - val_loss: 0.8587 - val_acc: 0.8920\n",
            "Epoch 38/50\n",
            "54000/54000 [==============================] - 3s 54us/step - loss: 0.8551 - acc: 0.8964 - val_loss: 0.8761 - val_acc: 0.8835\n",
            "Epoch 39/50\n",
            "54000/54000 [==============================] - 3s 55us/step - loss: 0.8473 - acc: 0.8966 - val_loss: 0.8772 - val_acc: 0.8830\n",
            "Epoch 40/50\n",
            "54000/54000 [==============================] - 3s 53us/step - loss: 0.8394 - acc: 0.8966 - val_loss: 0.8911 - val_acc: 0.8788\n",
            "Epoch 41/50\n",
            "54000/54000 [==============================] - 3s 54us/step - loss: 0.8342 - acc: 0.8958 - val_loss: 0.9535 - val_acc: 0.8735\n",
            "Epoch 42/50\n",
            "54000/54000 [==============================] - 3s 53us/step - loss: 0.8447 - acc: 0.8962 - val_loss: 0.8975 - val_acc: 0.8893\n",
            "Epoch 43/50\n",
            "54000/54000 [==============================] - 3s 54us/step - loss: 0.8279 - acc: 0.8963 - val_loss: 0.9037 - val_acc: 0.8827\n",
            "Epoch 44/50\n",
            "54000/54000 [==============================] - 3s 53us/step - loss: 0.8380 - acc: 0.8954 - val_loss: 0.8954 - val_acc: 0.8877\n",
            "Epoch 45/50\n",
            "54000/54000 [==============================] - 3s 55us/step - loss: 0.8433 - acc: 0.8967 - val_loss: 0.9587 - val_acc: 0.8798\n",
            "Epoch 46/50\n",
            "54000/54000 [==============================] - 3s 54us/step - loss: 0.8307 - acc: 0.8970 - val_loss: 0.9169 - val_acc: 0.8837\n",
            "Epoch 47/50\n",
            "54000/54000 [==============================] - 3s 53us/step - loss: 0.8483 - acc: 0.8961 - val_loss: 0.8681 - val_acc: 0.8920\n",
            "Epoch 48/50\n",
            "54000/54000 [==============================] - 3s 55us/step - loss: 0.8228 - acc: 0.8973 - val_loss: 0.8663 - val_acc: 0.8888\n",
            "Epoch 49/50\n",
            "54000/54000 [==============================] - 3s 53us/step - loss: 0.8303 - acc: 0.8967 - val_loss: 0.9066 - val_acc: 0.8798\n",
            "Epoch 50/50\n",
            "54000/54000 [==============================] - 3s 55us/step - loss: 0.8092 - acc: 0.8962 - val_loss: 1.0114 - val_acc: 0.8560\n"
          ],
          "name": "stdout"
        }
      ]
    },
    {
      "cell_type": "code",
      "metadata": {
        "id": "9aEn3HfTK8VA",
        "colab_type": "code",
        "outputId": "a9ed1eaa-25b3-4210-d816-3066b7c6053c",
        "colab": {
          "base_uri": "https://localhost:8080/",
          "height": 136
        }
      },
      "source": [
        "train_loss, train_acc = network.evaluate(train_images, train_labels)\n",
        "print('Train Loss: %s\\nTrain Accuracy: %s\\n' % (train_loss,train_acc))\n",
        "\n",
        "valid_loss, valid_acc = network.evaluate(valid_images, valid_labels)\n",
        "print('Valid Loss: %s\\nValid Accuracy: %s' % (valid_loss,valid_acc))"
      ],
      "execution_count": 0,
      "outputs": [
        {
          "output_type": "stream",
          "text": [
            "54000/54000 [==============================] - 3s 62us/step\n",
            "Train Loss: 0.5529330568401902\n",
            "Train Accuracy: 0.8750740740740741\n",
            "\n",
            "6000/6000 [==============================] - 0s 64us/step\n",
            "Valid Loss: 0.6207611037890116\n",
            "Valid Accuracy: 0.856\n"
          ],
          "name": "stdout"
        }
      ]
    },
    {
      "cell_type": "code",
      "metadata": {
        "id": "-NacjecTLA0l",
        "colab_type": "code",
        "outputId": "cd3df974-2ac9-48db-95bf-d5000ff4ae54",
        "colab": {
          "base_uri": "https://localhost:8080/",
          "height": 295
        }
      },
      "source": [
        "plot_acc_fn(history_reg)"
      ],
      "execution_count": 0,
      "outputs": [
        {
          "output_type": "display_data",
          "data": {
            "image/png": "[encoded data removed]",
            "text/plain": [
              "<Figure size 432x288 with 1 Axes>"
            ]
          },
          "metadata": {
            "tags": []
          }
        }
      ]
    },
    {
      "cell_type": "code",
      "metadata": {
        "id": "pkM-yq-PLDG9",
        "colab_type": "code",
        "outputId": "d5651bbd-3d3b-49f6-efcc-57e35e73a7ff",
        "colab": {
          "base_uri": "https://localhost:8080/",
          "height": 295
        }
      },
      "source": [
        "plot_loss_fn(history_reg)"
      ],
      "execution_count": 0,
      "outputs": [
        {
          "output_type": "display_data",
          "data": {
            "image/png": "[encoded data removed]",
            "text/plain": [
              "<Figure size 432x288 with 1 Axes>"
            ]
          },
          "metadata": {
            "tags": []
          }
        }
      ]
    },
    {
      "cell_type": "markdown",
      "metadata": {
        "id": "tVXImFshM4gn",
        "colab_type": "text"
      },
      "source": [
        "##### l2 Regularizer"
      ]
    },
    {
      "cell_type": "code",
      "metadata": {
        "id": "UgE45KvsM8Su",
        "colab_type": "code",
        "colab": {}
      },
      "source": [
        "reg = regularizers.l2(0.001)\n",
        "\n",
        "network = models.Sequential()\n",
        "network.add(layers.Dense(128, activation='elu',input_shape=(28*28,),kernel_initializer='he_normal',activity_regularizer=reg))\n",
        "network.add(layers.Dense(128, activation='elu',kernel_initializer='he_normal',activity_regularizer=reg))\n",
        "network.add(layers.Dense(128, activation='elu',kernel_initializer='he_normal',activity_regularizer=reg))\n",
        "network.add(layers.Dense(128, activation='elu',kernel_initializer='he_normal',activity_regularizer=reg))\n",
        "network.add(layers.Dense(10, activation='softmax'))\n",
        "\n",
        "# save model\n",
        "network.save('dnn_reg_model.h5')\n",
        "\n",
        "network.compile(optimizer= 'adam', \n",
        "                loss='categorical_crossentropy', \n",
        "                metrics=['accuracy'])"
      ],
      "execution_count": 0,
      "outputs": []
    },
    {
      "cell_type": "code",
      "metadata": {
        "id": "vBaEd6tNNt1X",
        "colab_type": "code",
        "outputId": "ec1a3f49-5dc5-449f-f36f-54325ff9bdf3",
        "colab": {
          "base_uri": "https://localhost:8080/",
          "height": 1000
        }
      },
      "source": [
        "history_reg = network.fit(train_images,train_labels,\n",
        "                          epochs=50,batch_size=128,\n",
        "                          validation_data=(valid_images,valid_labels))"
      ],
      "execution_count": 0,
      "outputs": [
        {
          "output_type": "stream",
          "text": [
            "Train on 54000 samples, validate on 6000 samples\n",
            "Epoch 1/50\n",
            "54000/54000 [==============================] - 4s 67us/step - loss: 2.7766 - acc: 0.8036 - val_loss: 1.3262 - val_acc: 0.8683\n",
            "Epoch 2/50\n",
            "54000/54000 [==============================] - 3s 54us/step - loss: 1.1021 - acc: 0.8770 - val_loss: 0.9993 - val_acc: 0.8647\n",
            "Epoch 3/50\n",
            "54000/54000 [==============================] - 3s 54us/step - loss: 0.8897 - acc: 0.8826 - val_loss: 0.8326 - val_acc: 0.8780\n",
            "Epoch 4/50\n",
            "54000/54000 [==============================] - 3s 53us/step - loss: 0.7869 - acc: 0.8884 - val_loss: 0.8111 - val_acc: 0.8647\n",
            "Epoch 5/50\n",
            "54000/54000 [==============================] - 3s 54us/step - loss: 0.7158 - acc: 0.8924 - val_loss: 0.7137 - val_acc: 0.8867\n",
            "Epoch 6/50\n",
            "54000/54000 [==============================] - 3s 52us/step - loss: 0.6590 - acc: 0.8979 - val_loss: 0.6590 - val_acc: 0.8942\n",
            "Epoch 7/50\n",
            "54000/54000 [==============================] - 3s 54us/step - loss: 0.6152 - acc: 0.9015 - val_loss: 0.6413 - val_acc: 0.8888\n",
            "Epoch 8/50\n",
            "54000/54000 [==============================] - 3s 54us/step - loss: 0.5820 - acc: 0.9038 - val_loss: 0.6499 - val_acc: 0.8808\n",
            "Epoch 9/50\n",
            "54000/54000 [==============================] - 3s 54us/step - loss: 0.5618 - acc: 0.9055 - val_loss: 0.5829 - val_acc: 0.8958\n",
            "Epoch 10/50\n",
            "54000/54000 [==============================] - 3s 53us/step - loss: 0.5411 - acc: 0.9075 - val_loss: 0.5516 - val_acc: 0.8997\n",
            "Epoch 11/50\n",
            "54000/54000 [==============================] - 3s 54us/step - loss: 0.5242 - acc: 0.9084 - val_loss: 0.6262 - val_acc: 0.8887\n",
            "Epoch 12/50\n",
            "54000/54000 [==============================] - 3s 55us/step - loss: 0.5060 - acc: 0.9112 - val_loss: 0.5254 - val_acc: 0.9010\n",
            "Epoch 13/50\n",
            "54000/54000 [==============================] - 3s 54us/step - loss: 0.4880 - acc: 0.9128 - val_loss: 0.5211 - val_acc: 0.8973\n",
            "Epoch 14/50\n",
            "54000/54000 [==============================] - 3s 54us/step - loss: 0.4842 - acc: 0.9124 - val_loss: 0.5570 - val_acc: 0.8893\n",
            "Epoch 15/50\n",
            "54000/54000 [==============================] - 3s 57us/step - loss: 0.4715 - acc: 0.9136 - val_loss: 0.5717 - val_acc: 0.8823\n",
            "Epoch 16/50\n",
            "54000/54000 [==============================] - 3s 54us/step - loss: 0.4632 - acc: 0.9156 - val_loss: 0.5400 - val_acc: 0.8977\n",
            "Epoch 17/50\n",
            "54000/54000 [==============================] - 3s 53us/step - loss: 0.4524 - acc: 0.9165 - val_loss: 0.5078 - val_acc: 0.9037\n",
            "Epoch 18/50\n",
            "54000/54000 [==============================] - 3s 54us/step - loss: 0.4509 - acc: 0.9179 - val_loss: 0.4893 - val_acc: 0.9042\n",
            "Epoch 19/50\n",
            "54000/54000 [==============================] - 3s 54us/step - loss: 0.4427 - acc: 0.9178 - val_loss: 0.4807 - val_acc: 0.9065\n",
            "Epoch 20/50\n",
            "54000/54000 [==============================] - 3s 54us/step - loss: 0.4320 - acc: 0.9203 - val_loss: 0.4817 - val_acc: 0.9080\n",
            "Epoch 21/50\n",
            "54000/54000 [==============================] - 3s 53us/step - loss: 0.4250 - acc: 0.9210 - val_loss: 0.4976 - val_acc: 0.9023\n",
            "Epoch 22/50\n",
            "54000/54000 [==============================] - 3s 54us/step - loss: 0.4252 - acc: 0.9212 - val_loss: 0.4772 - val_acc: 0.9030\n",
            "Epoch 23/50\n",
            "54000/54000 [==============================] - 3s 54us/step - loss: 0.4218 - acc: 0.9220 - val_loss: 0.4922 - val_acc: 0.8998\n",
            "Epoch 24/50\n",
            "54000/54000 [==============================] - 3s 55us/step - loss: 0.4223 - acc: 0.9217 - val_loss: 0.4807 - val_acc: 0.9090\n",
            "Epoch 25/50\n",
            "54000/54000 [==============================] - 3s 53us/step - loss: 0.4125 - acc: 0.9226 - val_loss: 0.4583 - val_acc: 0.9087\n",
            "Epoch 26/50\n",
            "54000/54000 [==============================] - 3s 53us/step - loss: 0.4030 - acc: 0.9243 - val_loss: 0.4957 - val_acc: 0.9048\n",
            "Epoch 27/50\n",
            "54000/54000 [==============================] - 3s 56us/step - loss: 0.4072 - acc: 0.9240 - val_loss: 0.4738 - val_acc: 0.9050\n",
            "Epoch 28/50\n",
            "54000/54000 [==============================] - 3s 54us/step - loss: 0.4031 - acc: 0.9231 - val_loss: 0.4726 - val_acc: 0.9053\n",
            "Epoch 29/50\n",
            "54000/54000 [==============================] - 3s 52us/step - loss: 0.3978 - acc: 0.9244 - val_loss: 0.4669 - val_acc: 0.9075\n",
            "Epoch 30/50\n",
            "54000/54000 [==============================] - 3s 53us/step - loss: 0.3983 - acc: 0.9256 - val_loss: 0.4517 - val_acc: 0.9138\n",
            "Epoch 31/50\n",
            "54000/54000 [==============================] - 3s 54us/step - loss: 0.4040 - acc: 0.9240 - val_loss: 0.4505 - val_acc: 0.9122\n",
            "Epoch 32/50\n",
            "54000/54000 [==============================] - 3s 54us/step - loss: 0.3881 - acc: 0.9265 - val_loss: 0.4729 - val_acc: 0.9098\n",
            "Epoch 33/50\n",
            "54000/54000 [==============================] - 3s 54us/step - loss: 0.3896 - acc: 0.9257 - val_loss: 0.4592 - val_acc: 0.9110\n",
            "Epoch 34/50\n",
            "54000/54000 [==============================] - 3s 56us/step - loss: 0.3916 - acc: 0.9253 - val_loss: 0.4697 - val_acc: 0.9067\n",
            "Epoch 35/50\n",
            "54000/54000 [==============================] - 3s 56us/step - loss: 0.3924 - acc: 0.9244 - val_loss: 0.4385 - val_acc: 0.9147\n",
            "Epoch 36/50\n",
            "54000/54000 [==============================] - 3s 53us/step - loss: 0.3837 - acc: 0.9269 - val_loss: 0.4456 - val_acc: 0.9100\n",
            "Epoch 37/50\n",
            "54000/54000 [==============================] - 3s 54us/step - loss: 0.3920 - acc: 0.9255 - val_loss: 0.4468 - val_acc: 0.9117\n",
            "Epoch 38/50\n",
            "54000/54000 [==============================] - 3s 55us/step - loss: 0.3838 - acc: 0.9269 - val_loss: 0.4421 - val_acc: 0.9113\n",
            "Epoch 39/50\n",
            "54000/54000 [==============================] - 3s 54us/step - loss: 0.3791 - acc: 0.9275 - val_loss: 0.5072 - val_acc: 0.9008\n",
            "Epoch 40/50\n",
            "54000/54000 [==============================] - 3s 54us/step - loss: 0.3827 - acc: 0.9264 - val_loss: 0.4462 - val_acc: 0.9108\n",
            "Epoch 41/50\n",
            "54000/54000 [==============================] - 3s 55us/step - loss: 0.3766 - acc: 0.9274 - val_loss: 0.4629 - val_acc: 0.9118\n",
            "Epoch 42/50\n",
            "54000/54000 [==============================] - 3s 54us/step - loss: 0.3832 - acc: 0.9272 - val_loss: 0.4631 - val_acc: 0.9047\n",
            "Epoch 43/50\n",
            "54000/54000 [==============================] - 3s 53us/step - loss: 0.3769 - acc: 0.9274 - val_loss: 0.4494 - val_acc: 0.9130\n",
            "Epoch 44/50\n",
            "54000/54000 [==============================] - 3s 54us/step - loss: 0.3792 - acc: 0.9273 - val_loss: 0.4548 - val_acc: 0.9038\n",
            "Epoch 45/50\n",
            "54000/54000 [==============================] - 3s 53us/step - loss: 0.3747 - acc: 0.9271 - val_loss: 0.4853 - val_acc: 0.8997\n",
            "Epoch 46/50\n",
            "54000/54000 [==============================] - 3s 53us/step - loss: 0.3767 - acc: 0.9279 - val_loss: 0.4522 - val_acc: 0.9108\n",
            "Epoch 47/50\n",
            "54000/54000 [==============================] - 3s 53us/step - loss: 0.3800 - acc: 0.9282 - val_loss: 0.4593 - val_acc: 0.9030\n",
            "Epoch 48/50\n",
            "54000/54000 [==============================] - 3s 54us/step - loss: 0.3732 - acc: 0.9274 - val_loss: 0.4549 - val_acc: 0.9070\n",
            "Epoch 49/50\n",
            "54000/54000 [==============================] - 3s 55us/step - loss: 0.3730 - acc: 0.9277 - val_loss: 0.4482 - val_acc: 0.9093\n",
            "Epoch 50/50\n",
            "54000/54000 [==============================] - 3s 55us/step - loss: 0.3718 - acc: 0.9278 - val_loss: 0.4957 - val_acc: 0.8992\n"
          ],
          "name": "stdout"
        }
      ]
    },
    {
      "cell_type": "code",
      "metadata": {
        "id": "RDn4tjumNyrS",
        "colab_type": "code",
        "outputId": "2bf81a1b-3869-4ea0-f9cd-b74610be37fa",
        "colab": {
          "base_uri": "https://localhost:8080/",
          "height": 136
        }
      },
      "source": [
        "train_loss, train_acc = network.evaluate(train_images, train_labels)\n",
        "print('Train Loss: %s\\nTrain Accuracy: %s\\n' % (train_loss,train_acc))\n",
        "\n",
        "valid_loss, valid_acc = network.evaluate(valid_images, valid_labels)\n",
        "print('Valid Loss: %s\\nValid Accuracy: %s' % (valid_loss,valid_acc))"
      ],
      "execution_count": 0,
      "outputs": [
        {
          "output_type": "stream",
          "text": [
            "54000/54000 [==============================] - 3s 65us/step\n",
            "Train Loss: 0.28630293562235654\n",
            "Train Accuracy: 0.9229074074074074\n",
            "\n",
            "6000/6000 [==============================] - 0s 64us/step\n",
            "Valid Loss: 0.38522687125205995\n",
            "Valid Accuracy: 0.8991666666666667\n"
          ],
          "name": "stdout"
        }
      ]
    },
    {
      "cell_type": "code",
      "metadata": {
        "id": "L0aigT7QN2Zm",
        "colab_type": "code",
        "outputId": "b314f247-b9d6-437c-ff10-4d53421e7c8f",
        "colab": {
          "base_uri": "https://localhost:8080/",
          "height": 295
        }
      },
      "source": [
        "plot_acc_fn(history_reg)"
      ],
      "execution_count": 0,
      "outputs": [
        {
          "output_type": "display_data",
          "data": {
            "image/png": "[encoded data removed]",
            "text/plain": [
              "<Figure size 432x288 with 1 Axes>"
            ]
          },
          "metadata": {
            "tags": []
          }
        }
      ]
    },
    {
      "cell_type": "code",
      "metadata": {
        "id": "nQ7FJ3PIN04j",
        "colab_type": "code",
        "outputId": "a10af3c6-a9d4-4233-fb06-6cd817765c48",
        "colab": {
          "base_uri": "https://localhost:8080/",
          "height": 295
        }
      },
      "source": [
        "plot_loss_fn(history_reg)"
      ],
      "execution_count": 0,
      "outputs": [
        {
          "output_type": "display_data",
          "data": {
            "image/png": "[encoded data removed]",
            "text/plain": [
              "<Figure size 432x288 with 1 Axes>"
            ]
          },
          "metadata": {
            "tags": []
          }
        }
      ]
    },
    {
      "cell_type": "markdown",
      "metadata": {
        "colab_type": "text",
        "id": "z85nVgKSWYSN"
      },
      "source": [
        "##### l1 & l2 Regularizer l1=0.001, l2=0.001"
      ]
    },
    {
      "cell_type": "code",
      "metadata": {
        "colab_type": "code",
        "id": "b5J42UO4WYSR",
        "colab": {}
      },
      "source": [
        "reg = regularizers.l1_l2(l1=0.001, l2=0.001)\n",
        "\n",
        "network = models.Sequential()\n",
        "network.add(layers.Dense(128, activation='elu',input_shape=(28*28,),kernel_initializer='he_normal',activity_regularizer=reg))\n",
        "network.add(layers.Dense(128, activation='elu',kernel_initializer='he_normal',activity_regularizer=reg))\n",
        "network.add(layers.Dense(128, activation='elu',kernel_initializer='he_normal',activity_regularizer=reg))\n",
        "network.add(layers.Dense(128, activation='elu',kernel_initializer='he_normal',activity_regularizer=reg))\n",
        "network.add(layers.Dense(10, activation='softmax'))\n",
        "\n",
        "# save model\n",
        "network.save('dnn_reg_model.h5')\n",
        "\n",
        "network.compile(optimizer= 'adam', \n",
        "                loss='categorical_crossentropy', \n",
        "                metrics=['accuracy'])"
      ],
      "execution_count": 0,
      "outputs": []
    },
    {
      "cell_type": "code",
      "metadata": {
        "colab_type": "code",
        "outputId": "1a79108e-1144-4bfa-e47c-a9d5c8919004",
        "id": "MAP0ZDaMWYSU",
        "colab": {
          "base_uri": "https://localhost:8080/",
          "height": 1000
        }
      },
      "source": [
        "history_reg = network.fit(train_images,train_labels,\n",
        "                          epochs=50,batch_size=128,\n",
        "                          validation_data=(valid_images,valid_labels))"
      ],
      "execution_count": 0,
      "outputs": [
        {
          "output_type": "stream",
          "text": [
            "Train on 54000 samples, validate on 6000 samples\n",
            "Epoch 1/50\n",
            "54000/54000 [==============================] - 4s 70us/step - loss: 8.0089 - acc: 0.5067 - val_loss: 3.9992 - val_acc: 0.4858\n",
            "Epoch 2/50\n",
            "54000/54000 [==============================] - 3s 56us/step - loss: 3.4452 - acc: 0.4755 - val_loss: 3.0431 - val_acc: 0.5575\n",
            "Epoch 3/50\n",
            "54000/54000 [==============================] - 3s 55us/step - loss: 2.6775 - acc: 0.7142 - val_loss: 2.6323 - val_acc: 0.6272\n",
            "Epoch 4/50\n",
            "54000/54000 [==============================] - 3s 56us/step - loss: 2.1276 - acc: 0.8106 - val_loss: 1.9305 - val_acc: 0.8302\n",
            "Epoch 5/50\n",
            "54000/54000 [==============================] - 3s 57us/step - loss: 1.8016 - acc: 0.8411 - val_loss: 1.6805 - val_acc: 0.8343\n",
            "Epoch 6/50\n",
            "54000/54000 [==============================] - 3s 55us/step - loss: 1.5848 - acc: 0.8558 - val_loss: 1.5154 - val_acc: 0.8465\n",
            "Epoch 7/50\n",
            "54000/54000 [==============================] - 3s 56us/step - loss: 1.4286 - acc: 0.8643 - val_loss: 1.3540 - val_acc: 0.8657\n",
            "Epoch 8/50\n",
            "54000/54000 [==============================] - 3s 56us/step - loss: 1.3006 - acc: 0.8691 - val_loss: 1.2957 - val_acc: 0.8657\n",
            "Epoch 9/50\n",
            "54000/54000 [==============================] - 3s 57us/step - loss: 1.2224 - acc: 0.8730 - val_loss: 1.2186 - val_acc: 0.8662\n",
            "Epoch 10/50\n",
            "54000/54000 [==============================] - 3s 58us/step - loss: 1.1555 - acc: 0.8751 - val_loss: 1.1673 - val_acc: 0.8688\n",
            "Epoch 11/50\n",
            "54000/54000 [==============================] - 3s 57us/step - loss: 1.1027 - acc: 0.8792 - val_loss: 1.1193 - val_acc: 0.8725\n",
            "Epoch 12/50\n",
            "54000/54000 [==============================] - 3s 56us/step - loss: 1.0777 - acc: 0.8801 - val_loss: 1.1349 - val_acc: 0.8685\n",
            "Epoch 13/50\n",
            "54000/54000 [==============================] - 3s 59us/step - loss: 1.0572 - acc: 0.8812 - val_loss: 1.0603 - val_acc: 0.8775\n",
            "Epoch 14/50\n",
            "54000/54000 [==============================] - 3s 60us/step - loss: 1.0464 - acc: 0.8817 - val_loss: 1.0509 - val_acc: 0.8793\n",
            "Epoch 15/50\n",
            "54000/54000 [==============================] - 3s 60us/step - loss: 1.0158 - acc: 0.8835 - val_loss: 1.0226 - val_acc: 0.8793\n",
            "Epoch 16/50\n",
            "54000/54000 [==============================] - 3s 57us/step - loss: 1.0019 - acc: 0.8844 - val_loss: 1.0166 - val_acc: 0.8785\n",
            "Epoch 17/50\n",
            "54000/54000 [==============================] - 3s 56us/step - loss: 0.9917 - acc: 0.8850 - val_loss: 1.0290 - val_acc: 0.8682\n",
            "Epoch 18/50\n",
            "54000/54000 [==============================] - 3s 57us/step - loss: 0.9752 - acc: 0.8862 - val_loss: 1.0380 - val_acc: 0.8717\n",
            "Epoch 19/50\n",
            "54000/54000 [==============================] - 3s 57us/step - loss: 0.9822 - acc: 0.8856 - val_loss: 0.9856 - val_acc: 0.8775\n",
            "Epoch 20/50\n",
            "54000/54000 [==============================] - 3s 57us/step - loss: 0.9640 - acc: 0.8876 - val_loss: 1.0352 - val_acc: 0.8685\n",
            "Epoch 21/50\n",
            "54000/54000 [==============================] - 3s 58us/step - loss: 0.9538 - acc: 0.8883 - val_loss: 0.9597 - val_acc: 0.8745\n",
            "Epoch 22/50\n",
            "54000/54000 [==============================] - 3s 57us/step - loss: 0.9332 - acc: 0.8882 - val_loss: 0.9914 - val_acc: 0.8770\n",
            "Epoch 23/50\n",
            "54000/54000 [==============================] - 3s 56us/step - loss: 0.9318 - acc: 0.8873 - val_loss: 0.9533 - val_acc: 0.8778\n",
            "Epoch 24/50\n",
            "54000/54000 [==============================] - 3s 56us/step - loss: 0.9268 - acc: 0.8895 - val_loss: 0.9620 - val_acc: 0.8847\n",
            "Epoch 25/50\n",
            "54000/54000 [==============================] - 3s 56us/step - loss: 0.9140 - acc: 0.8900 - val_loss: 0.9619 - val_acc: 0.8793\n",
            "Epoch 26/50\n",
            "54000/54000 [==============================] - 3s 56us/step - loss: 0.9232 - acc: 0.8891 - val_loss: 0.9661 - val_acc: 0.8727\n",
            "Epoch 27/50\n",
            "54000/54000 [==============================] - 3s 56us/step - loss: 0.9162 - acc: 0.8890 - val_loss: 1.0135 - val_acc: 0.8700\n",
            "Epoch 28/50\n",
            "54000/54000 [==============================] - 3s 58us/step - loss: 0.9016 - acc: 0.8905 - val_loss: 0.9593 - val_acc: 0.8772\n",
            "Epoch 29/50\n",
            "54000/54000 [==============================] - 3s 57us/step - loss: 0.8944 - acc: 0.8903 - val_loss: 0.9653 - val_acc: 0.8717\n",
            "Epoch 30/50\n",
            "54000/54000 [==============================] - 3s 56us/step - loss: 0.9007 - acc: 0.8900 - val_loss: 0.9263 - val_acc: 0.8785\n",
            "Epoch 31/50\n",
            "54000/54000 [==============================] - 3s 60us/step - loss: 0.9011 - acc: 0.8902 - val_loss: 0.9236 - val_acc: 0.8838\n",
            "Epoch 32/50\n",
            "54000/54000 [==============================] - 3s 56us/step - loss: 0.8776 - acc: 0.8918 - val_loss: 1.0061 - val_acc: 0.8713\n",
            "Epoch 33/50\n",
            "54000/54000 [==============================] - 3s 59us/step - loss: 0.8877 - acc: 0.8911 - val_loss: 0.9252 - val_acc: 0.8798\n",
            "Epoch 34/50\n",
            "54000/54000 [==============================] - 3s 56us/step - loss: 0.8756 - acc: 0.8916 - val_loss: 0.8945 - val_acc: 0.8842\n",
            "Epoch 35/50\n",
            "54000/54000 [==============================] - 3s 56us/step - loss: 0.8870 - acc: 0.8913 - val_loss: 0.8871 - val_acc: 0.8810\n",
            "Epoch 36/50\n",
            "54000/54000 [==============================] - 3s 56us/step - loss: 0.8658 - acc: 0.8914 - val_loss: 0.9011 - val_acc: 0.8827\n",
            "Epoch 37/50\n",
            "54000/54000 [==============================] - 3s 56us/step - loss: 0.8666 - acc: 0.8907 - val_loss: 1.0051 - val_acc: 0.8548\n",
            "Epoch 38/50\n",
            "54000/54000 [==============================] - 3s 57us/step - loss: 0.8616 - acc: 0.8923 - val_loss: 0.9848 - val_acc: 0.8658\n",
            "Epoch 39/50\n",
            "54000/54000 [==============================] - 3s 57us/step - loss: 0.8764 - acc: 0.8925 - val_loss: 0.8852 - val_acc: 0.8835\n",
            "Epoch 40/50\n",
            "54000/54000 [==============================] - 3s 56us/step - loss: 0.8536 - acc: 0.8939 - val_loss: 0.9312 - val_acc: 0.8672\n",
            "Epoch 41/50\n",
            "54000/54000 [==============================] - 3s 56us/step - loss: 0.8656 - acc: 0.8923 - val_loss: 0.9105 - val_acc: 0.8810\n",
            "Epoch 42/50\n",
            "54000/54000 [==============================] - 3s 58us/step - loss: 0.8667 - acc: 0.8918 - val_loss: 0.8786 - val_acc: 0.8867\n",
            "Epoch 43/50\n",
            "54000/54000 [==============================] - 3s 59us/step - loss: 0.8414 - acc: 0.8927 - val_loss: 0.9264 - val_acc: 0.8817\n",
            "Epoch 44/50\n",
            "54000/54000 [==============================] - 3s 55us/step - loss: 0.8472 - acc: 0.8916 - val_loss: 0.9338 - val_acc: 0.8782\n",
            "Epoch 45/50\n",
            "54000/54000 [==============================] - 3s 57us/step - loss: 0.8576 - acc: 0.8925 - val_loss: 0.9236 - val_acc: 0.8803\n",
            "Epoch 46/50\n",
            "54000/54000 [==============================] - 3s 58us/step - loss: 0.8647 - acc: 0.8909 - val_loss: 0.9418 - val_acc: 0.8702\n",
            "Epoch 47/50\n",
            "54000/54000 [==============================] - 3s 55us/step - loss: 0.8439 - acc: 0.8927 - val_loss: 0.8739 - val_acc: 0.8847\n",
            "Epoch 48/50\n",
            "54000/54000 [==============================] - 3s 56us/step - loss: 0.8477 - acc: 0.8923 - val_loss: 0.9093 - val_acc: 0.8720\n",
            "Epoch 49/50\n",
            "54000/54000 [==============================] - 3s 58us/step - loss: 0.8535 - acc: 0.8934 - val_loss: 0.9361 - val_acc: 0.8858\n",
            "Epoch 50/50\n",
            "54000/54000 [==============================] - 3s 56us/step - loss: 0.8305 - acc: 0.8936 - val_loss: 0.8986 - val_acc: 0.8873\n"
          ],
          "name": "stdout"
        }
      ]
    },
    {
      "cell_type": "code",
      "metadata": {
        "colab_type": "code",
        "outputId": "fbaf6df6-5c6a-4c06-f64c-81ad0a13c9e9",
        "id": "KDPYG0rrWYSY",
        "colab": {
          "base_uri": "https://localhost:8080/",
          "height": 136
        }
      },
      "source": [
        "train_loss, train_acc = network.evaluate(train_images, train_labels)\n",
        "print('Train Loss: %s\\nTrain Accuracy: %s\\n' % (train_loss,train_acc))\n",
        "\n",
        "valid_loss, valid_acc = network.evaluate(valid_images, valid_labels)\n",
        "print('Valid Loss: %s\\nValid Accuracy: %s' % (valid_loss,valid_acc))"
      ],
      "execution_count": 0,
      "outputs": [
        {
          "output_type": "stream",
          "text": [
            "54000/54000 [==============================] - 4s 69us/step\n",
            "Train Loss: 0.4709994068763874\n",
            "Train Accuracy: 0.9066296296296297\n",
            "\n",
            "6000/6000 [==============================] - 0s 68us/step\n",
            "Valid Loss: 0.5352941032250722\n",
            "Valid Accuracy: 0.8873333333333333\n"
          ],
          "name": "stdout"
        }
      ]
    },
    {
      "cell_type": "code",
      "metadata": {
        "colab_type": "code",
        "outputId": "6e1dab00-bdc7-492e-99cf-b537e0f97a86",
        "id": "gldUDIhqWYSa",
        "colab": {
          "base_uri": "https://localhost:8080/",
          "height": 295
        }
      },
      "source": [
        "plot_acc_fn(history_reg)"
      ],
      "execution_count": 0,
      "outputs": [
        {
          "output_type": "display_data",
          "data": {
            "image/png": "[encoded data removed]",
            "text/plain": [
              "<Figure size 432x288 with 1 Axes>"
            ]
          },
          "metadata": {
            "tags": []
          }
        }
      ]
    },
    {
      "cell_type": "code",
      "metadata": {
        "colab_type": "code",
        "outputId": "8d1adc98-b456-402b-fc72-705b432af2e4",
        "id": "Y8oUBJHHWYSh",
        "colab": {
          "base_uri": "https://localhost:8080/",
          "height": 295
        }
      },
      "source": [
        "plot_loss_fn(history_reg)"
      ],
      "execution_count": 0,
      "outputs": [
        {
          "output_type": "display_data",
          "data": {
            "image/png": "[encoded data removed]",
            "text/plain": [
              "<Figure size 432x288 with 1 Axes>"
            ]
          },
          "metadata": {
            "tags": []
          }
        }
      ]
    },
    {
      "cell_type": "markdown",
      "metadata": {
        "id": "wySltZ_rZfp6",
        "colab_type": "text"
      },
      "source": [
        "##### l1 & l2 Regularizer l1=0.0001, l2=0.0001"
      ]
    },
    {
      "cell_type": "code",
      "metadata": {
        "id": "oi3P7VdHZe6j",
        "colab_type": "code",
        "colab": {}
      },
      "source": [
        "reg = regularizers.l1_l2(l1=0.0001, l2=0.0001)\n",
        "\n",
        "network = models.Sequential()\n",
        "network.add(layers.Dense(128, activation='elu',input_shape=(28*28,),kernel_initializer='he_normal',activity_regularizer=reg))\n",
        "network.add(layers.Dense(128, activation='elu',kernel_initializer='he_normal',activity_regularizer=reg))\n",
        "network.add(layers.Dense(128, activation='elu',kernel_initializer='he_normal',activity_regularizer=reg))\n",
        "network.add(layers.Dense(128, activation='elu',kernel_initializer='he_normal',activity_regularizer=reg))\n",
        "network.add(layers.Dense(10, activation='softmax'))\n",
        "\n",
        "# save model\n",
        "network.save('dnn_reg_model.h5')\n",
        "\n",
        "network.compile(optimizer= 'adam', \n",
        "                loss='categorical_crossentropy', \n",
        "                metrics=['accuracy'])"
      ],
      "execution_count": 0,
      "outputs": []
    },
    {
      "cell_type": "code",
      "metadata": {
        "id": "pDXnV9T6Zp3n",
        "colab_type": "code",
        "outputId": "d3569d17-0644-48e7-94b7-831b8937f1f4",
        "colab": {
          "base_uri": "https://localhost:8080/",
          "height": 1000
        }
      },
      "source": [
        "history_reg = network.fit(train_images,train_labels,\n",
        "                          epochs=50,batch_size=128,\n",
        "                          validation_data=(valid_images,valid_labels))"
      ],
      "execution_count": 0,
      "outputs": [
        {
          "output_type": "stream",
          "text": [
            "Train on 54000 samples, validate on 6000 samples\n",
            "Epoch 1/50\n",
            "54000/54000 [==============================] - 4s 73us/step - loss: 1.8505 - acc: 0.8622 - val_loss: 1.2435 - val_acc: 0.8882\n",
            "Epoch 2/50\n",
            "54000/54000 [==============================] - 3s 57us/step - loss: 1.0984 - acc: 0.8965 - val_loss: 1.0087 - val_acc: 0.8908\n",
            "Epoch 3/50\n",
            "54000/54000 [==============================] - 3s 56us/step - loss: 0.9013 - acc: 0.9097 - val_loss: 0.8602 - val_acc: 0.9033\n",
            "Epoch 4/50\n",
            "54000/54000 [==============================] - 3s 57us/step - loss: 0.7972 - acc: 0.9178 - val_loss: 0.8162 - val_acc: 0.9007\n",
            "Epoch 5/50\n",
            "54000/54000 [==============================] - 3s 57us/step - loss: 0.7270 - acc: 0.9232 - val_loss: 0.7210 - val_acc: 0.9170\n",
            "Epoch 6/50\n",
            "54000/54000 [==============================] - 3s 56us/step - loss: 0.6755 - acc: 0.9262 - val_loss: 0.7122 - val_acc: 0.9148\n",
            "Epoch 7/50\n",
            "54000/54000 [==============================] - 3s 57us/step - loss: 0.6338 - acc: 0.9303 - val_loss: 0.6423 - val_acc: 0.9235\n",
            "Epoch 8/50\n",
            "54000/54000 [==============================] - 3s 57us/step - loss: 0.5946 - acc: 0.9337 - val_loss: 0.6301 - val_acc: 0.9220\n",
            "Epoch 9/50\n",
            "54000/54000 [==============================] - 3s 56us/step - loss: 0.5717 - acc: 0.9363 - val_loss: 0.5899 - val_acc: 0.9307\n",
            "Epoch 10/50\n",
            "54000/54000 [==============================] - 3s 59us/step - loss: 0.5404 - acc: 0.9388 - val_loss: 0.5970 - val_acc: 0.9250\n",
            "Epoch 11/50\n",
            "54000/54000 [==============================] - 3s 56us/step - loss: 0.5264 - acc: 0.9400 - val_loss: 0.5951 - val_acc: 0.9223\n",
            "Epoch 12/50\n",
            "54000/54000 [==============================] - 3s 56us/step - loss: 0.5042 - acc: 0.9419 - val_loss: 0.5458 - val_acc: 0.9252\n",
            "Epoch 13/50\n",
            "54000/54000 [==============================] - 3s 56us/step - loss: 0.4892 - acc: 0.9433 - val_loss: 0.5216 - val_acc: 0.9345\n",
            "Epoch 14/50\n",
            "54000/54000 [==============================] - 3s 59us/step - loss: 0.4739 - acc: 0.9441 - val_loss: 0.5191 - val_acc: 0.9322\n",
            "Epoch 15/50\n",
            "54000/54000 [==============================] - 3s 56us/step - loss: 0.4671 - acc: 0.9457 - val_loss: 0.5079 - val_acc: 0.9312\n",
            "Epoch 16/50\n",
            "54000/54000 [==============================] - 3s 55us/step - loss: 0.4525 - acc: 0.9472 - val_loss: 0.5060 - val_acc: 0.9340\n",
            "Epoch 17/50\n",
            "54000/54000 [==============================] - 3s 58us/step - loss: 0.4496 - acc: 0.9470 - val_loss: 0.4972 - val_acc: 0.9330\n",
            "Epoch 18/50\n",
            "54000/54000 [==============================] - 3s 56us/step - loss: 0.4295 - acc: 0.9494 - val_loss: 0.4772 - val_acc: 0.9337\n",
            "Epoch 19/50\n",
            "54000/54000 [==============================] - 3s 57us/step - loss: 0.4297 - acc: 0.9501 - val_loss: 0.4850 - val_acc: 0.9300\n",
            "Epoch 20/50\n",
            "54000/54000 [==============================] - 3s 56us/step - loss: 0.4239 - acc: 0.9504 - val_loss: 0.4778 - val_acc: 0.9365\n",
            "Epoch 21/50\n",
            "54000/54000 [==============================] - 3s 56us/step - loss: 0.4143 - acc: 0.9519 - val_loss: 0.5196 - val_acc: 0.9287\n",
            "Epoch 22/50\n",
            "54000/54000 [==============================] - 3s 59us/step - loss: 0.4157 - acc: 0.9512 - val_loss: 0.4657 - val_acc: 0.9340\n",
            "Epoch 23/50\n",
            "54000/54000 [==============================] - 3s 57us/step - loss: 0.4063 - acc: 0.9516 - val_loss: 0.4564 - val_acc: 0.9407\n",
            "Epoch 24/50\n",
            "54000/54000 [==============================] - 3s 56us/step - loss: 0.3988 - acc: 0.9530 - val_loss: 0.4771 - val_acc: 0.9337\n",
            "Epoch 25/50\n",
            "54000/54000 [==============================] - 3s 56us/step - loss: 0.4018 - acc: 0.9535 - val_loss: 0.4417 - val_acc: 0.9403\n",
            "Epoch 26/50\n",
            "54000/54000 [==============================] - 3s 57us/step - loss: 0.3912 - acc: 0.9539 - val_loss: 0.4490 - val_acc: 0.9395\n",
            "Epoch 27/50\n",
            "54000/54000 [==============================] - 3s 57us/step - loss: 0.3914 - acc: 0.9532 - val_loss: 0.4506 - val_acc: 0.9363\n",
            "Epoch 28/50\n",
            "54000/54000 [==============================] - 3s 57us/step - loss: 0.3799 - acc: 0.9557 - val_loss: 0.4577 - val_acc: 0.9368\n",
            "Epoch 29/50\n",
            "54000/54000 [==============================] - 3s 58us/step - loss: 0.3902 - acc: 0.9538 - val_loss: 0.4455 - val_acc: 0.9392\n",
            "Epoch 30/50\n",
            "54000/54000 [==============================] - 3s 58us/step - loss: 0.3715 - acc: 0.9553 - val_loss: 0.4473 - val_acc: 0.9353\n",
            "Epoch 31/50\n",
            "54000/54000 [==============================] - 3s 60us/step - loss: 0.3801 - acc: 0.9556 - val_loss: 0.4686 - val_acc: 0.9343\n",
            "Epoch 32/50\n",
            "54000/54000 [==============================] - 3s 57us/step - loss: 0.3680 - acc: 0.9569 - val_loss: 0.4414 - val_acc: 0.9398\n",
            "Epoch 33/50\n",
            "54000/54000 [==============================] - 3s 57us/step - loss: 0.3725 - acc: 0.9569 - val_loss: 0.4624 - val_acc: 0.9357\n",
            "Epoch 34/50\n",
            "54000/54000 [==============================] - 3s 57us/step - loss: 0.3694 - acc: 0.9558 - val_loss: 0.4475 - val_acc: 0.9395\n",
            "Epoch 35/50\n",
            "54000/54000 [==============================] - 3s 58us/step - loss: 0.3709 - acc: 0.9564 - val_loss: 0.4442 - val_acc: 0.9347\n",
            "Epoch 36/50\n",
            "54000/54000 [==============================] - 3s 56us/step - loss: 0.3561 - acc: 0.9579 - val_loss: 0.4463 - val_acc: 0.9390\n",
            "Epoch 37/50\n",
            "54000/54000 [==============================] - 3s 56us/step - loss: 0.3716 - acc: 0.9570 - val_loss: 0.4702 - val_acc: 0.9322\n",
            "Epoch 38/50\n",
            "54000/54000 [==============================] - 3s 58us/step - loss: 0.3571 - acc: 0.9585 - val_loss: 0.4378 - val_acc: 0.9332\n",
            "Epoch 39/50\n",
            "54000/54000 [==============================] - 3s 55us/step - loss: 0.3646 - acc: 0.9571 - val_loss: 0.4522 - val_acc: 0.9367\n",
            "Epoch 40/50\n",
            "54000/54000 [==============================] - 3s 59us/step - loss: 0.3582 - acc: 0.9586 - val_loss: 0.4435 - val_acc: 0.9333\n",
            "Epoch 41/50\n",
            "54000/54000 [==============================] - 3s 56us/step - loss: 0.3643 - acc: 0.9570 - val_loss: 0.4315 - val_acc: 0.9390\n",
            "Epoch 42/50\n",
            "54000/54000 [==============================] - 3s 57us/step - loss: 0.3444 - acc: 0.9594 - val_loss: 0.4465 - val_acc: 0.9352\n",
            "Epoch 43/50\n",
            "54000/54000 [==============================] - 3s 57us/step - loss: 0.3674 - acc: 0.9578 - val_loss: 0.4548 - val_acc: 0.9322\n",
            "Epoch 44/50\n",
            "54000/54000 [==============================] - 3s 57us/step - loss: 0.3454 - acc: 0.9587 - val_loss: 0.4493 - val_acc: 0.9358\n",
            "Epoch 45/50\n",
            "54000/54000 [==============================] - 3s 56us/step - loss: 0.3454 - acc: 0.9593 - val_loss: 0.4132 - val_acc: 0.9410\n",
            "Epoch 46/50\n",
            "54000/54000 [==============================] - 3s 56us/step - loss: 0.3636 - acc: 0.9574 - val_loss: 0.4585 - val_acc: 0.9342\n",
            "Epoch 47/50\n",
            "54000/54000 [==============================] - 3s 56us/step - loss: 0.3355 - acc: 0.9606 - val_loss: 0.4177 - val_acc: 0.9438\n",
            "Epoch 48/50\n",
            "54000/54000 [==============================] - 3s 56us/step - loss: 0.3416 - acc: 0.9602 - val_loss: 0.4510 - val_acc: 0.9317\n",
            "Epoch 49/50\n",
            "54000/54000 [==============================] - 3s 55us/step - loss: 0.3434 - acc: 0.9604 - val_loss: 0.4287 - val_acc: 0.9372\n",
            "Epoch 50/50\n",
            "54000/54000 [==============================] - 3s 58us/step - loss: 0.3422 - acc: 0.9597 - val_loss: 0.4564 - val_acc: 0.9338\n"
          ],
          "name": "stdout"
        }
      ]
    },
    {
      "cell_type": "code",
      "metadata": {
        "id": "bekT1jDnZsP5",
        "colab_type": "code",
        "outputId": "b1605b74-df51-4d31-8b60-6af3c982154d",
        "colab": {
          "base_uri": "https://localhost:8080/",
          "height": 136
        }
      },
      "source": [
        "train_loss, train_acc = network.evaluate(train_images, train_labels)\n",
        "print('Train Loss: %s\\nTrain Accuracy: %s\\n' % (train_loss,train_acc))\n",
        "\n",
        "valid_loss, valid_acc = network.evaluate(valid_images, valid_labels)\n",
        "print('Valid Loss: %s\\nValid Accuracy: %s' % (valid_loss,valid_acc))"
      ],
      "execution_count": 0,
      "outputs": [
        {
          "output_type": "stream",
          "text": [
            "54000/54000 [==============================] - 4s 69us/step\n",
            "Train Loss: 0.18773418365805236\n",
            "Train Accuracy: 0.9599074074074074\n",
            "\n",
            "6000/6000 [==============================] - 0s 68us/step\n",
            "Valid Loss: 0.2927913036545118\n",
            "Valid Accuracy: 0.9338333333333333\n"
          ],
          "name": "stdout"
        }
      ]
    },
    {
      "cell_type": "code",
      "metadata": {
        "id": "7K_ZnfuXZxq1",
        "colab_type": "code",
        "outputId": "1c05b634-dff2-4711-f4ce-30484a07d89c",
        "colab": {
          "base_uri": "https://localhost:8080/",
          "height": 295
        }
      },
      "source": [
        "plot_acc_fn(history_reg)"
      ],
      "execution_count": 0,
      "outputs": [
        {
          "output_type": "display_data",
          "data": {
            "image/png": "[encoded data removed]",
            "text/plain": [
              "<Figure size 432x288 with 1 Axes>"
            ]
          },
          "metadata": {
            "tags": []
          }
        }
      ]
    },
    {
      "cell_type": "code",
      "metadata": {
        "id": "-TAt8c--Z0xp",
        "colab_type": "code",
        "outputId": "069d15f9-c565-4b95-bb47-0e32dff1e7ad",
        "colab": {
          "base_uri": "https://localhost:8080/",
          "height": 295
        }
      },
      "source": [
        "plot_loss_fn(history_reg)"
      ],
      "execution_count": 0,
      "outputs": [
        {
          "output_type": "display_data",
          "data": {
            "image/png": "[encoded data removed]",
            "text/plain": [
              "<Figure size 432x288 with 1 Axes>"
            ]
          },
          "metadata": {
            "tags": []
          }
        }
      ]
    },
    {
      "cell_type": "markdown",
      "metadata": {
        "id": "gyY3QgMcRkF7",
        "colab_type": "text"
      },
      "source": [
        "##### l1 & l2 Regularizer l1=0.0001, l2=0.001"
      ]
    },
    {
      "cell_type": "code",
      "metadata": {
        "id": "hShAT7ymRnnu",
        "colab_type": "code",
        "colab": {}
      },
      "source": [
        "reg = regularizers.l1_l2(l1=0.0001, l2=0.001)\n",
        "\n",
        "network = models.Sequential()\n",
        "network.add(layers.Dense(128, activation='elu',input_shape=(28*28,),kernel_initializer='he_normal',activity_regularizer=reg))\n",
        "network.add(layers.Dense(128, activation='elu',kernel_initializer='he_normal',activity_regularizer=reg))\n",
        "network.add(layers.Dense(128, activation='elu',kernel_initializer='he_normal',activity_regularizer=reg))\n",
        "network.add(layers.Dense(128, activation='elu',kernel_initializer='he_normal',activity_regularizer=reg))\n",
        "network.add(layers.Dense(10, activation='softmax'))\n",
        "\n",
        "# save model\n",
        "network.save('dnn_reg_model.h5')\n",
        "\n",
        "network.compile(optimizer= 'adam', \n",
        "                loss='categorical_crossentropy', \n",
        "                metrics=['accuracy'])"
      ],
      "execution_count": 0,
      "outputs": []
    },
    {
      "cell_type": "code",
      "metadata": {
        "id": "m8Ivv9IvTB-a",
        "colab_type": "code",
        "outputId": "b9af2863-9675-4381-e1ee-1b250a6f5b94",
        "colab": {
          "base_uri": "https://localhost:8080/",
          "height": 1000
        }
      },
      "source": [
        "history_reg = network.fit(train_images,train_labels,\n",
        "                          epochs=50,batch_size=128,\n",
        "                          validation_data=(valid_images,valid_labels))"
      ],
      "execution_count": 0,
      "outputs": [
        {
          "output_type": "stream",
          "text": [
            "Train on 54000 samples, validate on 6000 samples\n",
            "Epoch 1/50\n",
            "54000/54000 [==============================] - 4s 75us/step - loss: 3.4866 - acc: 0.8009 - val_loss: 1.7793 - val_acc: 0.8568\n",
            "Epoch 2/50\n",
            "54000/54000 [==============================] - 3s 57us/step - loss: 1.4579 - acc: 0.8704 - val_loss: 1.2885 - val_acc: 0.8692\n",
            "Epoch 3/50\n",
            "54000/54000 [==============================] - 3s 58us/step - loss: 1.1699 - acc: 0.8779 - val_loss: 1.1052 - val_acc: 0.8720\n",
            "Epoch 4/50\n",
            "54000/54000 [==============================] - 3s 56us/step - loss: 1.0229 - acc: 0.8830 - val_loss: 1.0097 - val_acc: 0.8772\n",
            "Epoch 5/50\n",
            "54000/54000 [==============================] - 3s 57us/step - loss: 0.9246 - acc: 0.8889 - val_loss: 0.9099 - val_acc: 0.8880\n",
            "Epoch 6/50\n",
            "54000/54000 [==============================] - 3s 57us/step - loss: 0.8577 - acc: 0.8921 - val_loss: 0.8708 - val_acc: 0.8892\n",
            "Epoch 7/50\n",
            "54000/54000 [==============================] - 3s 57us/step - loss: 0.8053 - acc: 0.8959 - val_loss: 0.8022 - val_acc: 0.8910\n",
            "Epoch 8/50\n",
            "54000/54000 [==============================] - 3s 57us/step - loss: 0.7580 - acc: 0.8978 - val_loss: 0.7561 - val_acc: 0.8853\n",
            "Epoch 9/50\n",
            "54000/54000 [==============================] - 3s 59us/step - loss: 0.7208 - acc: 0.9007 - val_loss: 0.7647 - val_acc: 0.8773\n",
            "Epoch 10/50\n",
            "54000/54000 [==============================] - 3s 61us/step - loss: 0.6858 - acc: 0.9029 - val_loss: 0.7253 - val_acc: 0.8815\n",
            "Epoch 11/50\n",
            "54000/54000 [==============================] - 3s 60us/step - loss: 0.6665 - acc: 0.9047 - val_loss: 0.6894 - val_acc: 0.9008\n",
            "Epoch 12/50\n",
            "54000/54000 [==============================] - 3s 60us/step - loss: 0.6401 - acc: 0.9076 - val_loss: 0.6796 - val_acc: 0.8972\n",
            "Epoch 13/50\n",
            "54000/54000 [==============================] - 3s 59us/step - loss: 0.6228 - acc: 0.9075 - val_loss: 0.6473 - val_acc: 0.9002\n",
            "Epoch 14/50\n",
            "54000/54000 [==============================] - 3s 57us/step - loss: 0.6051 - acc: 0.9100 - val_loss: 0.6503 - val_acc: 0.8955\n",
            "Epoch 15/50\n",
            "54000/54000 [==============================] - 3s 57us/step - loss: 0.5811 - acc: 0.9112 - val_loss: 0.6257 - val_acc: 0.8960\n",
            "Epoch 16/50\n",
            "54000/54000 [==============================] - 3s 57us/step - loss: 0.5773 - acc: 0.9109 - val_loss: 0.6383 - val_acc: 0.8972\n",
            "Epoch 17/50\n",
            "54000/54000 [==============================] - 3s 57us/step - loss: 0.5691 - acc: 0.9110 - val_loss: 0.6215 - val_acc: 0.8968\n",
            "Epoch 18/50\n",
            "54000/54000 [==============================] - 3s 56us/step - loss: 0.5528 - acc: 0.9135 - val_loss: 0.5822 - val_acc: 0.9012\n",
            "Epoch 19/50\n",
            "54000/54000 [==============================] - 3s 57us/step - loss: 0.5474 - acc: 0.9129 - val_loss: 0.6262 - val_acc: 0.8942\n",
            "Epoch 20/50\n",
            "54000/54000 [==============================] - 3s 56us/step - loss: 0.5462 - acc: 0.9125 - val_loss: 0.6048 - val_acc: 0.9020\n",
            "Epoch 21/50\n",
            "54000/54000 [==============================] - 3s 56us/step - loss: 0.5285 - acc: 0.9164 - val_loss: 0.5955 - val_acc: 0.8933\n",
            "Epoch 22/50\n",
            "54000/54000 [==============================] - 3s 57us/step - loss: 0.5266 - acc: 0.9146 - val_loss: 0.5873 - val_acc: 0.8983\n",
            "Epoch 23/50\n",
            "54000/54000 [==============================] - 3s 57us/step - loss: 0.5323 - acc: 0.9145 - val_loss: 0.6160 - val_acc: 0.8900\n",
            "Epoch 24/50\n",
            "54000/54000 [==============================] - 3s 56us/step - loss: 0.5174 - acc: 0.9162 - val_loss: 0.5581 - val_acc: 0.9015\n",
            "Epoch 25/50\n",
            "54000/54000 [==============================] - 3s 56us/step - loss: 0.5208 - acc: 0.9146 - val_loss: 0.5563 - val_acc: 0.9047\n",
            "Epoch 26/50\n",
            "54000/54000 [==============================] - 3s 56us/step - loss: 0.5164 - acc: 0.9159 - val_loss: 0.5625 - val_acc: 0.8998\n",
            "Epoch 27/50\n",
            "54000/54000 [==============================] - 3s 57us/step - loss: 0.5041 - acc: 0.9172 - val_loss: 0.5992 - val_acc: 0.8875\n",
            "Epoch 28/50\n",
            "54000/54000 [==============================] - 3s 57us/step - loss: 0.5051 - acc: 0.9163 - val_loss: 0.5880 - val_acc: 0.8853\n",
            "Epoch 29/50\n",
            "54000/54000 [==============================] - 3s 57us/step - loss: 0.5211 - acc: 0.9144 - val_loss: 0.6244 - val_acc: 0.8913\n",
            "Epoch 30/50\n",
            "54000/54000 [==============================] - 3s 57us/step - loss: 0.4971 - acc: 0.9180 - val_loss: 0.5395 - val_acc: 0.9037\n",
            "Epoch 31/50\n",
            "54000/54000 [==============================] - 3s 56us/step - loss: 0.4907 - acc: 0.9178 - val_loss: 0.5438 - val_acc: 0.9072\n",
            "Epoch 32/50\n",
            "54000/54000 [==============================] - 3s 57us/step - loss: 0.4961 - acc: 0.9172 - val_loss: 0.5573 - val_acc: 0.9020\n",
            "Epoch 33/50\n",
            "54000/54000 [==============================] - 3s 58us/step - loss: 0.4953 - acc: 0.9181 - val_loss: 0.6117 - val_acc: 0.8895\n",
            "Epoch 34/50\n",
            "54000/54000 [==============================] - 3s 55us/step - loss: 0.5049 - acc: 0.9166 - val_loss: 0.5533 - val_acc: 0.8972\n",
            "Epoch 35/50\n",
            "54000/54000 [==============================] - 3s 56us/step - loss: 0.4787 - acc: 0.9183 - val_loss: 0.5233 - val_acc: 0.9085\n",
            "Epoch 36/50\n",
            "54000/54000 [==============================] - 3s 58us/step - loss: 0.4941 - acc: 0.9174 - val_loss: 0.6047 - val_acc: 0.8982\n",
            "Epoch 37/50\n",
            "54000/54000 [==============================] - 3s 58us/step - loss: 0.4929 - acc: 0.9177 - val_loss: 0.5438 - val_acc: 0.9068\n",
            "Epoch 38/50\n",
            "54000/54000 [==============================] - 3s 57us/step - loss: 0.4928 - acc: 0.9182 - val_loss: 0.5335 - val_acc: 0.9057\n",
            "Epoch 39/50\n",
            "54000/54000 [==============================] - 3s 56us/step - loss: 0.4779 - acc: 0.9197 - val_loss: 0.5515 - val_acc: 0.8993\n",
            "Epoch 40/50\n",
            "54000/54000 [==============================] - 3s 56us/step - loss: 0.4847 - acc: 0.9182 - val_loss: 0.5653 - val_acc: 0.8932\n",
            "Epoch 41/50\n",
            "54000/54000 [==============================] - 3s 57us/step - loss: 0.4921 - acc: 0.9170 - val_loss: 0.5494 - val_acc: 0.9015\n",
            "Epoch 42/50\n",
            "54000/54000 [==============================] - 3s 56us/step - loss: 0.4728 - acc: 0.9192 - val_loss: 0.5496 - val_acc: 0.9040\n",
            "Epoch 43/50\n",
            "54000/54000 [==============================] - 3s 57us/step - loss: 0.4813 - acc: 0.9174 - val_loss: 0.5397 - val_acc: 0.9012\n",
            "Epoch 44/50\n",
            "54000/54000 [==============================] - 3s 57us/step - loss: 0.4800 - acc: 0.9183 - val_loss: 0.5488 - val_acc: 0.9010\n",
            "Epoch 45/50\n",
            "54000/54000 [==============================] - 3s 56us/step - loss: 0.4812 - acc: 0.9198 - val_loss: 0.5452 - val_acc: 0.9033\n",
            "Epoch 46/50\n",
            "54000/54000 [==============================] - 3s 57us/step - loss: 0.4821 - acc: 0.9191 - val_loss: 0.5731 - val_acc: 0.8950\n",
            "Epoch 47/50\n",
            "54000/54000 [==============================] - 3s 56us/step - loss: 0.4820 - acc: 0.9174 - val_loss: 0.5464 - val_acc: 0.9032\n",
            "Epoch 48/50\n",
            "54000/54000 [==============================] - 3s 57us/step - loss: 0.4738 - acc: 0.9180 - val_loss: 0.5873 - val_acc: 0.8982\n",
            "Epoch 49/50\n",
            "54000/54000 [==============================] - 3s 57us/step - loss: 0.4790 - acc: 0.9198 - val_loss: 0.5550 - val_acc: 0.8978\n",
            "Epoch 50/50\n",
            "54000/54000 [==============================] - 3s 56us/step - loss: 0.4736 - acc: 0.9189 - val_loss: 0.5403 - val_acc: 0.9072\n"
          ],
          "name": "stdout"
        }
      ]
    },
    {
      "cell_type": "code",
      "metadata": {
        "id": "tRZH7dOdTCr7",
        "colab_type": "code",
        "outputId": "085a4f0e-61e2-4b26-aec9-bb5ecf4d5c5e",
        "colab": {
          "base_uri": "https://localhost:8080/",
          "height": 136
        }
      },
      "source": [
        "train_loss, train_acc = network.evaluate(train_images, train_labels)\n",
        "print('Train Loss: %s\\nTrain Accuracy: %s\\n' % (train_loss,train_acc))\n",
        "\n",
        "valid_loss, valid_acc = network.evaluate(valid_images, valid_labels)\n",
        "print('Valid Loss: %s\\nValid Accuracy: %s' % (valid_loss,valid_acc))"
      ],
      "execution_count": 0,
      "outputs": [
        {
          "output_type": "stream",
          "text": [
            "54000/54000 [==============================] - 4s 72us/step\n",
            "Train Loss: 0.31164207825837315\n",
            "Train Accuracy: 0.9271111111111111\n",
            "\n",
            "6000/6000 [==============================] - 0s 73us/step\n",
            "Valid Loss: 0.3951268124580383\n",
            "Valid Accuracy: 0.9071666666666667\n"
          ],
          "name": "stdout"
        }
      ]
    },
    {
      "cell_type": "code",
      "metadata": {
        "id": "cwNAIJPuTE72",
        "colab_type": "code",
        "outputId": "34afdf71-5e7d-4575-fb04-90b243b623a4",
        "colab": {
          "base_uri": "https://localhost:8080/",
          "height": 295
        }
      },
      "source": [
        "plot_acc_fn(history_reg)"
      ],
      "execution_count": 0,
      "outputs": [
        {
          "output_type": "display_data",
          "data": {
            "image/png": "[encoded data removed]",
            "text/plain": [
              "<Figure size 432x288 with 1 Axes>"
            ]
          },
          "metadata": {
            "tags": []
          }
        }
      ]
    },
    {
      "cell_type": "code",
      "metadata": {
        "id": "hf-HBAUxTHz0",
        "colab_type": "code",
        "outputId": "f8ade8c9-8d81-44ab-932e-c7faf8ed1682",
        "colab": {
          "base_uri": "https://localhost:8080/",
          "height": 295
        }
      },
      "source": [
        "plot_loss_fn(history_reg)"
      ],
      "execution_count": 0,
      "outputs": [
        {
          "output_type": "display_data",
          "data": {
            "image/png": "[encoded data removed]",
            "text/plain": [
              "<Figure size 432x288 with 1 Axes>"
            ]
          },
          "metadata": {
            "tags": []
          }
        }
      ]
    },
    {
      "cell_type": "markdown",
      "metadata": {
        "colab_type": "text",
        "id": "0UHcrfDAVWGN"
      },
      "source": [
        "##### l1 & l2 Regularizer l1=0.001, l2=0.0001"
      ]
    },
    {
      "cell_type": "code",
      "metadata": {
        "colab_type": "code",
        "id": "MhsMCYHOVWGQ",
        "colab": {}
      },
      "source": [
        "reg = regularizers.l1_l2(l1=0.001, l2=0.0001)\n",
        "\n",
        "network = models.Sequential()\n",
        "network.add(layers.Dense(128, activation='elu',input_shape=(28*28,),kernel_initializer='he_normal',activity_regularizer=reg))\n",
        "network.add(layers.Dense(128, activation='elu',kernel_initializer='he_normal',activity_regularizer=reg))\n",
        "network.add(layers.Dense(128, activation='elu',kernel_initializer='he_normal',activity_regularizer=reg))\n",
        "network.add(layers.Dense(128, activation='elu',kernel_initializer='he_normal',activity_regularizer=reg))\n",
        "network.add(layers.Dense(10, activation='softmax'))\n",
        "\n",
        "# save model\n",
        "network.save('dnn_reg_model.h5')\n",
        "\n",
        "network.compile(optimizer= 'adam', \n",
        "                loss='categorical_crossentropy', \n",
        "                metrics=['accuracy'])"
      ],
      "execution_count": 0,
      "outputs": []
    },
    {
      "cell_type": "code",
      "metadata": {
        "colab_type": "code",
        "outputId": "aa60f240-fb41-4f16-81e5-3e9b42117331",
        "id": "bqVfSSkiVWGT",
        "colab": {
          "base_uri": "https://localhost:8080/",
          "height": 1000
        }
      },
      "source": [
        "history_reg = network.fit(train_images,train_labels,\n",
        "                          epochs=50,batch_size=128,\n",
        "                          validation_data=(valid_images,valid_labels))"
      ],
      "execution_count": 0,
      "outputs": [
        {
          "output_type": "stream",
          "text": [
            "Train on 54000 samples, validate on 6000 samples\n",
            "Epoch 1/50\n",
            "54000/54000 [==============================] - 4s 78us/step - loss: 6.8966 - acc: 0.6082 - val_loss: 3.7380 - val_acc: 0.5410\n",
            "Epoch 2/50\n",
            "54000/54000 [==============================] - 3s 54us/step - loss: 3.1918 - acc: 0.6253 - val_loss: 2.7687 - val_acc: 0.7498\n",
            "Epoch 3/50\n",
            "54000/54000 [==============================] - 3s 57us/step - loss: 2.4312 - acc: 0.7866 - val_loss: 2.2465 - val_acc: 0.7975\n",
            "Epoch 4/50\n",
            "54000/54000 [==============================] - 3s 56us/step - loss: 1.9845 - acc: 0.8427 - val_loss: 1.8444 - val_acc: 0.8377\n",
            "Epoch 5/50\n",
            "54000/54000 [==============================] - 3s 58us/step - loss: 1.6999 - acc: 0.8628 - val_loss: 1.6084 - val_acc: 0.8635\n",
            "Epoch 6/50\n",
            "54000/54000 [==============================] - 3s 57us/step - loss: 1.4950 - acc: 0.8734 - val_loss: 1.4434 - val_acc: 0.8652\n",
            "Epoch 7/50\n",
            "54000/54000 [==============================] - 3s 57us/step - loss: 1.3506 - acc: 0.8785 - val_loss: 1.2971 - val_acc: 0.8770\n",
            "Epoch 8/50\n",
            "54000/54000 [==============================] - 3s 57us/step - loss: 1.2270 - acc: 0.8866 - val_loss: 1.2100 - val_acc: 0.8688\n",
            "Epoch 9/50\n",
            "54000/54000 [==============================] - 3s 58us/step - loss: 1.1589 - acc: 0.8868 - val_loss: 1.1543 - val_acc: 0.8748\n",
            "Epoch 10/50\n",
            "54000/54000 [==============================] - 3s 56us/step - loss: 1.1087 - acc: 0.8883 - val_loss: 1.1100 - val_acc: 0.8752\n",
            "Epoch 11/50\n",
            "54000/54000 [==============================] - 3s 59us/step - loss: 1.0685 - acc: 0.8901 - val_loss: 1.0854 - val_acc: 0.8863\n",
            "Epoch 12/50\n",
            "54000/54000 [==============================] - 3s 58us/step - loss: 1.0368 - acc: 0.8928 - val_loss: 1.0375 - val_acc: 0.8812\n",
            "Epoch 13/50\n",
            "54000/54000 [==============================] - 3s 57us/step - loss: 1.0147 - acc: 0.8936 - val_loss: 1.0918 - val_acc: 0.8840\n",
            "Epoch 14/50\n",
            "54000/54000 [==============================] - 3s 57us/step - loss: 1.0041 - acc: 0.8929 - val_loss: 1.0586 - val_acc: 0.8765\n",
            "Epoch 15/50\n",
            "54000/54000 [==============================] - 3s 58us/step - loss: 0.9855 - acc: 0.8953 - val_loss: 0.9739 - val_acc: 0.8832\n",
            "Epoch 16/50\n",
            "54000/54000 [==============================] - 3s 57us/step - loss: 0.9655 - acc: 0.8959 - val_loss: 1.0326 - val_acc: 0.8870\n",
            "Epoch 17/50\n",
            "54000/54000 [==============================] - 3s 57us/step - loss: 0.9672 - acc: 0.8954 - val_loss: 0.9826 - val_acc: 0.8797\n",
            "Epoch 18/50\n",
            "54000/54000 [==============================] - 3s 57us/step - loss: 0.9472 - acc: 0.8955 - val_loss: 0.9822 - val_acc: 0.8830\n",
            "Epoch 19/50\n",
            "54000/54000 [==============================] - 3s 59us/step - loss: 0.9376 - acc: 0.8985 - val_loss: 0.9884 - val_acc: 0.8823\n",
            "Epoch 20/50\n",
            "54000/54000 [==============================] - 3s 57us/step - loss: 0.9437 - acc: 0.8955 - val_loss: 0.9596 - val_acc: 0.8892\n",
            "Epoch 21/50\n",
            "54000/54000 [==============================] - 3s 56us/step - loss: 0.9056 - acc: 0.8988 - val_loss: 0.9960 - val_acc: 0.8885\n",
            "Epoch 22/50\n",
            "54000/54000 [==============================] - 3s 58us/step - loss: 0.9270 - acc: 0.8975 - val_loss: 0.9772 - val_acc: 0.8877\n",
            "Epoch 23/50\n",
            "54000/54000 [==============================] - 3s 57us/step - loss: 0.8930 - acc: 0.8992 - val_loss: 0.9106 - val_acc: 0.8903\n",
            "Epoch 24/50\n",
            "54000/54000 [==============================] - 3s 58us/step - loss: 0.9040 - acc: 0.8975 - val_loss: 0.9087 - val_acc: 0.8883\n",
            "Epoch 25/50\n",
            "54000/54000 [==============================] - 3s 62us/step - loss: 0.8913 - acc: 0.9010 - val_loss: 0.9106 - val_acc: 0.8810\n",
            "Epoch 26/50\n",
            "54000/54000 [==============================] - 3s 59us/step - loss: 0.8741 - acc: 0.8996 - val_loss: 0.9327 - val_acc: 0.8917\n",
            "Epoch 27/50\n",
            "54000/54000 [==============================] - 3s 55us/step - loss: 0.8805 - acc: 0.8995 - val_loss: 0.9567 - val_acc: 0.8768\n",
            "Epoch 28/50\n",
            "54000/54000 [==============================] - 3s 57us/step - loss: 0.8673 - acc: 0.9009 - val_loss: 0.9204 - val_acc: 0.8930\n",
            "Epoch 29/50\n",
            "54000/54000 [==============================] - 3s 58us/step - loss: 0.8645 - acc: 0.9007 - val_loss: 0.8811 - val_acc: 0.8883\n",
            "Epoch 30/50\n",
            "54000/54000 [==============================] - 3s 58us/step - loss: 0.8517 - acc: 0.9005 - val_loss: 0.9168 - val_acc: 0.8858\n",
            "Epoch 31/50\n",
            "54000/54000 [==============================] - 3s 55us/step - loss: 0.8787 - acc: 0.9004 - val_loss: 0.8986 - val_acc: 0.8850\n",
            "Epoch 32/50\n",
            "54000/54000 [==============================] - 3s 58us/step - loss: 0.8533 - acc: 0.9002 - val_loss: 0.8937 - val_acc: 0.8937\n",
            "Epoch 33/50\n",
            "54000/54000 [==============================] - 3s 60us/step - loss: 0.8558 - acc: 0.9001 - val_loss: 0.9198 - val_acc: 0.8812\n",
            "Epoch 34/50\n",
            "54000/54000 [==============================] - 3s 56us/step - loss: 0.8482 - acc: 0.9013 - val_loss: 0.9267 - val_acc: 0.8888\n",
            "Epoch 35/50\n",
            "54000/54000 [==============================] - 3s 58us/step - loss: 0.8494 - acc: 0.9002 - val_loss: 0.8763 - val_acc: 0.8857\n",
            "Epoch 36/50\n",
            "54000/54000 [==============================] - 3s 56us/step - loss: 0.8405 - acc: 0.9024 - val_loss: 0.9093 - val_acc: 0.8873\n",
            "Epoch 37/50\n",
            "54000/54000 [==============================] - 3s 57us/step - loss: 0.8462 - acc: 0.9016 - val_loss: 0.9023 - val_acc: 0.8933\n",
            "Epoch 38/50\n",
            "54000/54000 [==============================] - 3s 59us/step - loss: 0.8512 - acc: 0.9000 - val_loss: 0.8952 - val_acc: 0.8852\n",
            "Epoch 39/50\n",
            "54000/54000 [==============================] - 3s 58us/step - loss: 0.8384 - acc: 0.9008 - val_loss: 0.8747 - val_acc: 0.8900\n",
            "Epoch 40/50\n",
            "54000/54000 [==============================] - 3s 56us/step - loss: 0.8187 - acc: 0.9029 - val_loss: 0.8900 - val_acc: 0.8873\n",
            "Epoch 41/50\n",
            "54000/54000 [==============================] - 3s 58us/step - loss: 0.8296 - acc: 0.9014 - val_loss: 0.8767 - val_acc: 0.8877\n",
            "Epoch 42/50\n",
            "54000/54000 [==============================] - 3s 57us/step - loss: 0.8227 - acc: 0.9019 - val_loss: 0.8965 - val_acc: 0.8867\n",
            "Epoch 43/50\n",
            "54000/54000 [==============================] - 3s 57us/step - loss: 0.8350 - acc: 0.9011 - val_loss: 0.9127 - val_acc: 0.8818\n",
            "Epoch 44/50\n",
            "54000/54000 [==============================] - 3s 56us/step - loss: 0.8152 - acc: 0.9032 - val_loss: 0.9147 - val_acc: 0.8820\n",
            "Epoch 45/50\n",
            "54000/54000 [==============================] - 3s 57us/step - loss: 0.8294 - acc: 0.9015 - val_loss: 0.8566 - val_acc: 0.8898\n",
            "Epoch 46/50\n",
            "54000/54000 [==============================] - 3s 59us/step - loss: 0.8217 - acc: 0.9025 - val_loss: 0.8531 - val_acc: 0.8897\n",
            "Epoch 47/50\n",
            "54000/54000 [==============================] - 3s 55us/step - loss: 0.8114 - acc: 0.9017 - val_loss: 0.9112 - val_acc: 0.8770\n",
            "Epoch 48/50\n",
            "54000/54000 [==============================] - 3s 58us/step - loss: 0.8390 - acc: 0.9016 - val_loss: 0.8947 - val_acc: 0.8887\n",
            "Epoch 49/50\n",
            "54000/54000 [==============================] - 3s 57us/step - loss: 0.8100 - acc: 0.9028 - val_loss: 0.8861 - val_acc: 0.8843\n",
            "Epoch 50/50\n",
            "54000/54000 [==============================] - 3s 55us/step - loss: 0.8081 - acc: 0.9019 - val_loss: 0.8689 - val_acc: 0.8885\n"
          ],
          "name": "stdout"
        }
      ]
    },
    {
      "cell_type": "code",
      "metadata": {
        "colab_type": "code",
        "outputId": "4fa2beff-d57b-4e0c-de9c-aaf1e175bcce",
        "id": "SnOoaUwwVWGW",
        "colab": {
          "base_uri": "https://localhost:8080/",
          "height": 136
        }
      },
      "source": [
        "train_loss, train_acc = network.evaluate(train_images, train_labels)\n",
        "print('Train Loss: %s\\nTrain Accuracy: %s\\n' % (train_loss,train_acc))\n",
        "\n",
        "valid_loss, valid_acc = network.evaluate(valid_images, valid_labels)\n",
        "print('Valid Loss: %s\\nValid Accuracy: %s' % (valid_loss,valid_acc))"
      ],
      "execution_count": 0,
      "outputs": [
        {
          "output_type": "stream",
          "text": [
            "54000/54000 [==============================] - 4s 72us/step\n",
            "Train Loss: 0.45492491836901067\n",
            "Train Accuracy: 0.9077407407407407\n",
            "\n",
            "6000/6000 [==============================] - 0s 67us/step\n",
            "Valid Loss: 0.5234496902624766\n",
            "Valid Accuracy: 0.8885\n"
          ],
          "name": "stdout"
        }
      ]
    },
    {
      "cell_type": "code",
      "metadata": {
        "colab_type": "code",
        "outputId": "0e2ed268-b5bf-4823-ab77-70c1f19abb2f",
        "id": "7Y5DY3LcVWGY",
        "colab": {
          "base_uri": "https://localhost:8080/",
          "height": 295
        }
      },
      "source": [
        "plot_acc_fn(history_reg)"
      ],
      "execution_count": 0,
      "outputs": [
        {
          "output_type": "display_data",
          "data": {
            "image/png": "[encoded data removed]",
            "text/plain": [
              "<Figure size 432x288 with 1 Axes>"
            ]
          },
          "metadata": {
            "tags": []
          }
        }
      ]
    },
    {
      "cell_type": "code",
      "metadata": {
        "colab_type": "code",
        "outputId": "a9a039e1-276d-4f17-e438-6c5cf586db8f",
        "id": "eLCMPUDgVWGa",
        "colab": {
          "base_uri": "https://localhost:8080/",
          "height": 295
        }
      },
      "source": [
        "plot_loss_fn(history_reg)"
      ],
      "execution_count": 0,
      "outputs": [
        {
          "output_type": "display_data",
          "data": {
            "image/png": "[encoded data removed]",
            "text/plain": [
              "<Figure size 432x288 with 1 Axes>"
            ]
          },
          "metadata": {
            "tags": []
          }
        }
      ]
    },
    {
      "cell_type": "markdown",
      "metadata": {
        "id": "BMTA3CmMa-r0",
        "colab_type": "text"
      },
      "source": [
        "#### Adding dropout (every layer) (0.1)"
      ]
    },
    {
      "cell_type": "code",
      "metadata": {
        "id": "-MTvg8aHa-C9",
        "colab_type": "code",
        "outputId": "e799cd3e-4ab5-4789-ea14-0aaff2494e81",
        "colab": {
          "base_uri": "https://localhost:8080/",
          "height": 88
        }
      },
      "source": [
        "from keras.layers import Dropout\n",
        "\n",
        "network = models.Sequential()\n",
        "network.add(layers.Dense(128, activation='elu',input_shape=(28*28,),kernel_initializer='he_normal'))\n",
        "network.add(Dropout(0.1))\n",
        "network.add(layers.Dense(128, activation='elu',kernel_initializer='he_normal'))\n",
        "network.add(Dropout(0.1))\n",
        "network.add(layers.Dense(128, activation='elu',kernel_initializer='he_normal'))\n",
        "network.add(Dropout(0.1))\n",
        "network.add(layers.Dense(128, activation='elu',kernel_initializer='he_normal'))\n",
        "network.add(Dropout(0.1))\n",
        "network.add(layers.Dense(10, activation='softmax'))\n",
        "\n",
        "network.compile(optimizer= 'adam', \n",
        "                loss='categorical_crossentropy', \n",
        "                metrics=['accuracy'])"
      ],
      "execution_count": 0,
      "outputs": [
        {
          "output_type": "stream",
          "text": [
            "WARNING:tensorflow:From /usr/local/lib/python3.6/dist-packages/keras/backend/tensorflow_backend.py:3733: calling dropout (from tensorflow.python.ops.nn_ops) with keep_prob is deprecated and will be removed in a future version.\n",
            "Instructions for updating:\n",
            "Please use `rate` instead of `keep_prob`. Rate should be set to `rate = 1 - keep_prob`.\n"
          ],
          "name": "stdout"
        }
      ]
    },
    {
      "cell_type": "code",
      "metadata": {
        "id": "TvAYEANObOTG",
        "colab_type": "code",
        "outputId": "0d315b15-fa97-485e-9f5c-1cda38829c04",
        "colab": {
          "base_uri": "https://localhost:8080/",
          "height": 1000
        }
      },
      "source": [
        "history_dropout = network.fit(train_images,train_labels,\n",
        "                          epochs=50,batch_size=128,\n",
        "                          validation_data=(valid_images,valid_labels))"
      ],
      "execution_count": 0,
      "outputs": [
        {
          "output_type": "stream",
          "text": [
            "Train on 54000 samples, validate on 6000 samples\n",
            "Epoch 1/50\n",
            "54000/54000 [==============================] - 4s 79us/step - loss: 0.3581 - acc: 0.8878 - val_loss: 0.1828 - val_acc: 0.9455\n",
            "Epoch 2/50\n",
            "54000/54000 [==============================] - 3s 57us/step - loss: 0.1826 - acc: 0.9439 - val_loss: 0.1429 - val_acc: 0.9592\n",
            "Epoch 3/50\n",
            "54000/54000 [==============================] - 3s 55us/step - loss: 0.1395 - acc: 0.9554 - val_loss: 0.1190 - val_acc: 0.9633\n",
            "Epoch 4/50\n",
            "54000/54000 [==============================] - 3s 57us/step - loss: 0.1150 - acc: 0.9636 - val_loss: 0.1035 - val_acc: 0.9677\n",
            "Epoch 5/50\n",
            "54000/54000 [==============================] - 3s 57us/step - loss: 0.1010 - acc: 0.9681 - val_loss: 0.1063 - val_acc: 0.9700\n",
            "Epoch 6/50\n",
            "54000/54000 [==============================] - 3s 61us/step - loss: 0.0897 - acc: 0.9710 - val_loss: 0.0917 - val_acc: 0.9742\n",
            "Epoch 7/50\n",
            "54000/54000 [==============================] - 3s 62us/step - loss: 0.0802 - acc: 0.9746 - val_loss: 0.0876 - val_acc: 0.9742\n",
            "Epoch 8/50\n",
            "54000/54000 [==============================] - 3s 60us/step - loss: 0.0734 - acc: 0.9767 - val_loss: 0.0905 - val_acc: 0.9748\n",
            "Epoch 9/50\n",
            "54000/54000 [==============================] - 3s 57us/step - loss: 0.0681 - acc: 0.9775 - val_loss: 0.0870 - val_acc: 0.9747\n",
            "Epoch 10/50\n",
            "54000/54000 [==============================] - 3s 58us/step - loss: 0.0642 - acc: 0.9789 - val_loss: 0.0905 - val_acc: 0.9772\n",
            "Epoch 11/50\n",
            "54000/54000 [==============================] - 3s 58us/step - loss: 0.0585 - acc: 0.9809 - val_loss: 0.0959 - val_acc: 0.9745\n",
            "Epoch 12/50\n",
            "54000/54000 [==============================] - 3s 56us/step - loss: 0.0558 - acc: 0.9813 - val_loss: 0.0947 - val_acc: 0.9768\n",
            "Epoch 13/50\n",
            "54000/54000 [==============================] - 3s 57us/step - loss: 0.0533 - acc: 0.9822 - val_loss: 0.0904 - val_acc: 0.9772\n",
            "Epoch 14/50\n",
            "54000/54000 [==============================] - 3s 58us/step - loss: 0.0487 - acc: 0.9838 - val_loss: 0.0872 - val_acc: 0.9773\n",
            "Epoch 15/50\n",
            "54000/54000 [==============================] - 3s 56us/step - loss: 0.0463 - acc: 0.9849 - val_loss: 0.0858 - val_acc: 0.9768\n",
            "Epoch 16/50\n",
            "54000/54000 [==============================] - 3s 56us/step - loss: 0.0435 - acc: 0.9858 - val_loss: 0.1005 - val_acc: 0.9755\n",
            "Epoch 17/50\n",
            "54000/54000 [==============================] - 3s 57us/step - loss: 0.0398 - acc: 0.9868 - val_loss: 0.0891 - val_acc: 0.9785\n",
            "Epoch 18/50\n",
            "54000/54000 [==============================] - 3s 57us/step - loss: 0.0401 - acc: 0.9866 - val_loss: 0.0942 - val_acc: 0.9795\n",
            "Epoch 19/50\n",
            "54000/54000 [==============================] - 3s 57us/step - loss: 0.0395 - acc: 0.9871 - val_loss: 0.0971 - val_acc: 0.9772\n",
            "Epoch 20/50\n",
            "54000/54000 [==============================] - 3s 56us/step - loss: 0.0366 - acc: 0.9879 - val_loss: 0.0863 - val_acc: 0.9797\n",
            "Epoch 21/50\n",
            "54000/54000 [==============================] - 3s 56us/step - loss: 0.0350 - acc: 0.9880 - val_loss: 0.1009 - val_acc: 0.9795\n",
            "Epoch 22/50\n",
            "54000/54000 [==============================] - 3s 57us/step - loss: 0.0329 - acc: 0.9894 - val_loss: 0.0936 - val_acc: 0.9777\n",
            "Epoch 23/50\n",
            "54000/54000 [==============================] - 3s 57us/step - loss: 0.0345 - acc: 0.9880 - val_loss: 0.0937 - val_acc: 0.9780\n",
            "Epoch 24/50\n",
            "54000/54000 [==============================] - 3s 56us/step - loss: 0.0318 - acc: 0.9897 - val_loss: 0.0820 - val_acc: 0.9815\n",
            "Epoch 25/50\n",
            "54000/54000 [==============================] - 3s 57us/step - loss: 0.0283 - acc: 0.9905 - val_loss: 0.1016 - val_acc: 0.9797\n",
            "Epoch 26/50\n",
            "54000/54000 [==============================] - 3s 58us/step - loss: 0.0318 - acc: 0.9891 - val_loss: 0.0955 - val_acc: 0.9820\n",
            "Epoch 27/50\n",
            "54000/54000 [==============================] - 3s 58us/step - loss: 0.0282 - acc: 0.9909 - val_loss: 0.1118 - val_acc: 0.9768\n",
            "Epoch 28/50\n",
            "54000/54000 [==============================] - 3s 57us/step - loss: 0.0253 - acc: 0.9915 - val_loss: 0.0986 - val_acc: 0.9808\n",
            "Epoch 29/50\n",
            "54000/54000 [==============================] - 3s 57us/step - loss: 0.0276 - acc: 0.9909 - val_loss: 0.0999 - val_acc: 0.9793\n",
            "Epoch 30/50\n",
            "54000/54000 [==============================] - 3s 57us/step - loss: 0.0270 - acc: 0.9913 - val_loss: 0.0905 - val_acc: 0.9802\n",
            "Epoch 31/50\n",
            "54000/54000 [==============================] - 3s 57us/step - loss: 0.0277 - acc: 0.9912 - val_loss: 0.1014 - val_acc: 0.9807\n",
            "Epoch 32/50\n",
            "54000/54000 [==============================] - 3s 57us/step - loss: 0.0261 - acc: 0.9913 - val_loss: 0.0964 - val_acc: 0.9807\n",
            "Epoch 33/50\n",
            "54000/54000 [==============================] - 3s 56us/step - loss: 0.0252 - acc: 0.9917 - val_loss: 0.0907 - val_acc: 0.9817\n",
            "Epoch 34/50\n",
            "54000/54000 [==============================] - 3s 58us/step - loss: 0.0232 - acc: 0.9920 - val_loss: 0.0930 - val_acc: 0.9825\n",
            "Epoch 35/50\n",
            "54000/54000 [==============================] - 3s 57us/step - loss: 0.0187 - acc: 0.9939 - val_loss: 0.1161 - val_acc: 0.9783\n",
            "Epoch 36/50\n",
            "54000/54000 [==============================] - 3s 56us/step - loss: 0.0256 - acc: 0.9915 - val_loss: 0.0925 - val_acc: 0.9813\n",
            "Epoch 37/50\n",
            "54000/54000 [==============================] - 3s 57us/step - loss: 0.0221 - acc: 0.9929 - val_loss: 0.1029 - val_acc: 0.9813\n",
            "Epoch 38/50\n",
            "54000/54000 [==============================] - 3s 58us/step - loss: 0.0223 - acc: 0.9928 - val_loss: 0.1095 - val_acc: 0.9825\n",
            "Epoch 39/50\n",
            "54000/54000 [==============================] - 3s 57us/step - loss: 0.0215 - acc: 0.9928 - val_loss: 0.1030 - val_acc: 0.9808\n",
            "Epoch 40/50\n",
            "54000/54000 [==============================] - 3s 57us/step - loss: 0.0196 - acc: 0.9938 - val_loss: 0.1069 - val_acc: 0.9797\n",
            "Epoch 41/50\n",
            "54000/54000 [==============================] - 3s 55us/step - loss: 0.0220 - acc: 0.9927 - val_loss: 0.1175 - val_acc: 0.9795\n",
            "Epoch 42/50\n",
            "54000/54000 [==============================] - 3s 57us/step - loss: 0.0214 - acc: 0.9932 - val_loss: 0.1062 - val_acc: 0.9813\n",
            "Epoch 43/50\n",
            "54000/54000 [==============================] - 3s 58us/step - loss: 0.0190 - acc: 0.9937 - val_loss: 0.1138 - val_acc: 0.9825\n",
            "Epoch 44/50\n",
            "54000/54000 [==============================] - 3s 56us/step - loss: 0.0191 - acc: 0.9940 - val_loss: 0.1011 - val_acc: 0.9815\n",
            "Epoch 45/50\n",
            "54000/54000 [==============================] - 3s 58us/step - loss: 0.0189 - acc: 0.9937 - val_loss: 0.1019 - val_acc: 0.9817\n",
            "Epoch 46/50\n",
            "54000/54000 [==============================] - 3s 58us/step - loss: 0.0190 - acc: 0.9938 - val_loss: 0.1076 - val_acc: 0.9790\n",
            "Epoch 47/50\n",
            "54000/54000 [==============================] - 3s 57us/step - loss: 0.0171 - acc: 0.9945 - val_loss: 0.1096 - val_acc: 0.9812\n",
            "Epoch 48/50\n",
            "54000/54000 [==============================] - 3s 58us/step - loss: 0.0167 - acc: 0.9949 - val_loss: 0.1020 - val_acc: 0.9817\n",
            "Epoch 49/50\n",
            "54000/54000 [==============================] - 3s 58us/step - loss: 0.0187 - acc: 0.9942 - val_loss: 0.1159 - val_acc: 0.9823\n",
            "Epoch 50/50\n",
            "54000/54000 [==============================] - 3s 57us/step - loss: 0.0168 - acc: 0.9947 - val_loss: 0.1197 - val_acc: 0.9815\n"
          ],
          "name": "stdout"
        }
      ]
    },
    {
      "cell_type": "code",
      "metadata": {
        "id": "3-nof3OfbSwR",
        "colab_type": "code",
        "outputId": "b4bb7456-de9e-4d7a-b654-da6eec84265e",
        "colab": {
          "base_uri": "https://localhost:8080/",
          "height": 136
        }
      },
      "source": [
        "train_loss, train_acc = network.evaluate(train_images, train_labels)\n",
        "print('Train Loss: %s\\nTrain Accuracy: %s\\n' % (train_loss,train_acc))\n",
        "\n",
        "valid_loss, valid_acc = network.evaluate(valid_images, valid_labels)\n",
        "print('Valid Loss: %s\\nValid Accuracy: %s' % (valid_loss,valid_acc))"
      ],
      "execution_count": 0,
      "outputs": [
        {
          "output_type": "stream",
          "text": [
            "54000/54000 [==============================] - 3s 64us/step\n",
            "Train Loss: 0.0033328232024607838\n",
            "Train Accuracy: 0.9988148148148148\n",
            "\n",
            "6000/6000 [==============================] - 0s 66us/step\n",
            "Valid Loss: 0.11965415670838381\n",
            "Valid Accuracy: 0.9815\n"
          ],
          "name": "stdout"
        }
      ]
    },
    {
      "cell_type": "code",
      "metadata": {
        "id": "Q6Nu_aDSb_3M",
        "colab_type": "code",
        "outputId": "e001a9e0-cf28-451e-83c7-4df6486a32f9",
        "colab": {
          "base_uri": "https://localhost:8080/",
          "height": 295
        }
      },
      "source": [
        "plot_acc_fn(history_dropout)"
      ],
      "execution_count": 0,
      "outputs": [
        {
          "output_type": "display_data",
          "data": {
            "image/png": "[encoded data removed]",
            "text/plain": [
              "<Figure size 432x288 with 1 Axes>"
            ]
          },
          "metadata": {
            "tags": []
          }
        }
      ]
    },
    {
      "cell_type": "code",
      "metadata": {
        "id": "uVIuFDoacEDh",
        "colab_type": "code",
        "outputId": "343fb7fc-ba2b-43b8-ecb4-64794aa51b6d",
        "colab": {
          "base_uri": "https://localhost:8080/",
          "height": 295
        }
      },
      "source": [
        "plot_loss_fn(history_dropout)"
      ],
      "execution_count": 0,
      "outputs": [
        {
          "output_type": "display_data",
          "data": {
            "image/png": "[encoded data removed]",
            "text/plain": [
              "<Figure size 432x288 with 1 Axes>"
            ]
          },
          "metadata": {
            "tags": []
          }
        }
      ]
    },
    {
      "cell_type": "markdown",
      "metadata": {
        "colab_type": "text",
        "id": "vnQEH4gddI6C"
      },
      "source": [
        "#### Adding dropout (every layer)(0.2)"
      ]
    },
    {
      "cell_type": "code",
      "metadata": {
        "colab_type": "code",
        "id": "I7pzXSiEdI6E",
        "colab": {}
      },
      "source": [
        "from keras.layers import Dropout\n",
        "\n",
        "network = models.Sequential()\n",
        "network.add(layers.Dense(128, activation='elu',input_shape=(28*28,),kernel_initializer='he_normal'))\n",
        "network.add(Dropout(0.2))\n",
        "network.add(layers.Dense(128, activation='elu',kernel_initializer='he_normal'))\n",
        "network.add(Dropout(0.2))\n",
        "network.add(layers.Dense(128, activation='elu',kernel_initializer='he_normal'))\n",
        "network.add(Dropout(0.2))\n",
        "network.add(layers.Dense(128, activation='elu',kernel_initializer='he_normal'))\n",
        "network.add(Dropout(0.2))\n",
        "network.add(layers.Dense(10, activation='softmax'))\n",
        "\n",
        "network.compile(optimizer= 'adam', \n",
        "                loss='categorical_crossentropy', \n",
        "                metrics=['accuracy'])"
      ],
      "execution_count": 0,
      "outputs": []
    },
    {
      "cell_type": "code",
      "metadata": {
        "colab_type": "code",
        "outputId": "45df5d58-6022-425d-c026-ea090ed0a7d2",
        "id": "kkjMOKRAdI6G",
        "colab": {
          "base_uri": "https://localhost:8080/",
          "height": 1000
        }
      },
      "source": [
        "history_dropout = network.fit(train_images,train_labels,\n",
        "                          epochs=50,batch_size=128,\n",
        "                          validation_data=(valid_images,valid_labels))"
      ],
      "execution_count": 0,
      "outputs": [
        {
          "output_type": "stream",
          "text": [
            "Train on 54000 samples, validate on 6000 samples\n",
            "Epoch 1/50\n",
            "54000/54000 [==============================] - 5s 83us/step - loss: 0.4581 - acc: 0.8582 - val_loss: 0.2111 - val_acc: 0.9372\n",
            "Epoch 2/50\n",
            "54000/54000 [==============================] - 3s 57us/step - loss: 0.2522 - acc: 0.9224 - val_loss: 0.1731 - val_acc: 0.9477\n",
            "Epoch 3/50\n",
            "54000/54000 [==============================] - 3s 59us/step - loss: 0.2022 - acc: 0.9382 - val_loss: 0.1392 - val_acc: 0.9562\n",
            "Epoch 4/50\n",
            "54000/54000 [==============================] - 3s 57us/step - loss: 0.1747 - acc: 0.9463 - val_loss: 0.1314 - val_acc: 0.9585\n",
            "Epoch 5/50\n",
            "54000/54000 [==============================] - 3s 58us/step - loss: 0.1541 - acc: 0.9531 - val_loss: 0.1205 - val_acc: 0.9638\n",
            "Epoch 6/50\n",
            "54000/54000 [==============================] - 3s 59us/step - loss: 0.1375 - acc: 0.9572 - val_loss: 0.1106 - val_acc: 0.9660\n",
            "Epoch 7/50\n",
            "54000/54000 [==============================] - 3s 58us/step - loss: 0.1281 - acc: 0.9590 - val_loss: 0.1101 - val_acc: 0.9677\n",
            "Epoch 8/50\n",
            "54000/54000 [==============================] - 3s 57us/step - loss: 0.1181 - acc: 0.9625 - val_loss: 0.0952 - val_acc: 0.9707\n",
            "Epoch 9/50\n",
            "54000/54000 [==============================] - 3s 57us/step - loss: 0.1097 - acc: 0.9661 - val_loss: 0.1030 - val_acc: 0.9685\n",
            "Epoch 10/50\n",
            "54000/54000 [==============================] - 3s 60us/step - loss: 0.1035 - acc: 0.9680 - val_loss: 0.0944 - val_acc: 0.9735\n",
            "Epoch 11/50\n",
            "54000/54000 [==============================] - 3s 59us/step - loss: 0.0946 - acc: 0.9701 - val_loss: 0.0910 - val_acc: 0.9728\n",
            "Epoch 12/50\n",
            "54000/54000 [==============================] - 3s 56us/step - loss: 0.0903 - acc: 0.9718 - val_loss: 0.0890 - val_acc: 0.9753\n",
            "Epoch 13/50\n",
            "54000/54000 [==============================] - 3s 58us/step - loss: 0.0864 - acc: 0.9729 - val_loss: 0.0941 - val_acc: 0.9718\n",
            "Epoch 14/50\n",
            "54000/54000 [==============================] - 3s 58us/step - loss: 0.0828 - acc: 0.9736 - val_loss: 0.0856 - val_acc: 0.9765\n",
            "Epoch 15/50\n",
            "54000/54000 [==============================] - 3s 57us/step - loss: 0.0808 - acc: 0.9742 - val_loss: 0.0894 - val_acc: 0.9745\n",
            "Epoch 16/50\n",
            "54000/54000 [==============================] - 3s 57us/step - loss: 0.0765 - acc: 0.9766 - val_loss: 0.0871 - val_acc: 0.9773\n",
            "Epoch 17/50\n",
            "54000/54000 [==============================] - 3s 59us/step - loss: 0.0723 - acc: 0.9768 - val_loss: 0.0873 - val_acc: 0.9762\n",
            "Epoch 18/50\n",
            "54000/54000 [==============================] - 3s 59us/step - loss: 0.0733 - acc: 0.9773 - val_loss: 0.0840 - val_acc: 0.9763\n",
            "Epoch 19/50\n",
            "54000/54000 [==============================] - 3s 61us/step - loss: 0.0680 - acc: 0.9786 - val_loss: 0.0851 - val_acc: 0.9752\n",
            "Epoch 20/50\n",
            "54000/54000 [==============================] - 3s 58us/step - loss: 0.0643 - acc: 0.9798 - val_loss: 0.0826 - val_acc: 0.9767\n",
            "Epoch 21/50\n",
            "54000/54000 [==============================] - 3s 58us/step - loss: 0.0627 - acc: 0.9797 - val_loss: 0.0849 - val_acc: 0.9765\n",
            "Epoch 22/50\n",
            "54000/54000 [==============================] - 3s 57us/step - loss: 0.0614 - acc: 0.9801 - val_loss: 0.0892 - val_acc: 0.9757\n",
            "Epoch 23/50\n",
            "54000/54000 [==============================] - 3s 57us/step - loss: 0.0590 - acc: 0.9810 - val_loss: 0.0831 - val_acc: 0.9798\n",
            "Epoch 24/50\n",
            "54000/54000 [==============================] - 3s 57us/step - loss: 0.0585 - acc: 0.9815 - val_loss: 0.0801 - val_acc: 0.9798\n",
            "Epoch 25/50\n",
            "54000/54000 [==============================] - 3s 57us/step - loss: 0.0567 - acc: 0.9830 - val_loss: 0.0788 - val_acc: 0.9800\n",
            "Epoch 26/50\n",
            "54000/54000 [==============================] - 3s 56us/step - loss: 0.0529 - acc: 0.9827 - val_loss: 0.0807 - val_acc: 0.9802\n",
            "Epoch 27/50\n",
            "54000/54000 [==============================] - 3s 57us/step - loss: 0.0530 - acc: 0.9833 - val_loss: 0.0726 - val_acc: 0.9793\n",
            "Epoch 28/50\n",
            "54000/54000 [==============================] - 3s 58us/step - loss: 0.0521 - acc: 0.9833 - val_loss: 0.0824 - val_acc: 0.9795\n",
            "Epoch 29/50\n",
            "54000/54000 [==============================] - 3s 57us/step - loss: 0.0494 - acc: 0.9841 - val_loss: 0.0869 - val_acc: 0.9783\n",
            "Epoch 30/50\n",
            "54000/54000 [==============================] - 3s 58us/step - loss: 0.0521 - acc: 0.9838 - val_loss: 0.0863 - val_acc: 0.9792\n",
            "Epoch 31/50\n",
            "54000/54000 [==============================] - 3s 58us/step - loss: 0.0440 - acc: 0.9860 - val_loss: 0.0850 - val_acc: 0.9793\n",
            "Epoch 32/50\n",
            "54000/54000 [==============================] - 3s 58us/step - loss: 0.0468 - acc: 0.9852 - val_loss: 0.0832 - val_acc: 0.9795\n",
            "Epoch 33/50\n",
            "54000/54000 [==============================] - 3s 56us/step - loss: 0.0477 - acc: 0.9854 - val_loss: 0.0909 - val_acc: 0.9782\n",
            "Epoch 34/50\n",
            "54000/54000 [==============================] - 3s 58us/step - loss: 0.0464 - acc: 0.9860 - val_loss: 0.0813 - val_acc: 0.9798\n",
            "Epoch 35/50\n",
            "54000/54000 [==============================] - 3s 57us/step - loss: 0.0425 - acc: 0.9865 - val_loss: 0.0983 - val_acc: 0.9787\n",
            "Epoch 36/50\n",
            "54000/54000 [==============================] - 3s 56us/step - loss: 0.0440 - acc: 0.9861 - val_loss: 0.0872 - val_acc: 0.9812\n",
            "Epoch 37/50\n",
            "54000/54000 [==============================] - 3s 58us/step - loss: 0.0420 - acc: 0.9863 - val_loss: 0.0909 - val_acc: 0.9782\n",
            "Epoch 38/50\n",
            "54000/54000 [==============================] - 3s 57us/step - loss: 0.0411 - acc: 0.9870 - val_loss: 0.0760 - val_acc: 0.9818\n",
            "Epoch 39/50\n",
            "54000/54000 [==============================] - 3s 56us/step - loss: 0.0410 - acc: 0.9876 - val_loss: 0.0855 - val_acc: 0.9807\n",
            "Epoch 40/50\n",
            "54000/54000 [==============================] - 3s 56us/step - loss: 0.0403 - acc: 0.9871 - val_loss: 0.0857 - val_acc: 0.9797\n",
            "Epoch 41/50\n",
            "54000/54000 [==============================] - 3s 57us/step - loss: 0.0377 - acc: 0.9879 - val_loss: 0.0980 - val_acc: 0.9787\n",
            "Epoch 42/50\n",
            "54000/54000 [==============================] - 3s 57us/step - loss: 0.0370 - acc: 0.9884 - val_loss: 0.0845 - val_acc: 0.9815\n",
            "Epoch 43/50\n",
            "54000/54000 [==============================] - 3s 56us/step - loss: 0.0378 - acc: 0.9881 - val_loss: 0.0988 - val_acc: 0.9770\n",
            "Epoch 44/50\n",
            "54000/54000 [==============================] - 3s 57us/step - loss: 0.0371 - acc: 0.9883 - val_loss: 0.0886 - val_acc: 0.9808\n",
            "Epoch 45/50\n",
            "54000/54000 [==============================] - 3s 58us/step - loss: 0.0348 - acc: 0.9892 - val_loss: 0.0966 - val_acc: 0.9803\n",
            "Epoch 46/50\n",
            "54000/54000 [==============================] - 3s 58us/step - loss: 0.0360 - acc: 0.9889 - val_loss: 0.1007 - val_acc: 0.9782\n",
            "Epoch 47/50\n",
            "54000/54000 [==============================] - 3s 57us/step - loss: 0.0363 - acc: 0.9886 - val_loss: 0.0840 - val_acc: 0.9815\n",
            "Epoch 48/50\n",
            "54000/54000 [==============================] - 3s 56us/step - loss: 0.0346 - acc: 0.9891 - val_loss: 0.0895 - val_acc: 0.9805\n",
            "Epoch 49/50\n",
            "54000/54000 [==============================] - 3s 57us/step - loss: 0.0325 - acc: 0.9896 - val_loss: 0.0868 - val_acc: 0.9825\n",
            "Epoch 50/50\n",
            "54000/54000 [==============================] - 3s 57us/step - loss: 0.0364 - acc: 0.9888 - val_loss: 0.0846 - val_acc: 0.9808\n"
          ],
          "name": "stdout"
        }
      ]
    },
    {
      "cell_type": "code",
      "metadata": {
        "colab_type": "code",
        "outputId": "4cbcb1d0-cdd1-4a60-a375-da264af16867",
        "id": "lnstCn3edI6K",
        "colab": {
          "base_uri": "https://localhost:8080/",
          "height": 136
        }
      },
      "source": [
        "train_loss, train_acc = network.evaluate(train_images, train_labels)\n",
        "print('Train Loss: %s\\nTrain Accuracy: %s\\n' % (train_loss,train_acc))\n",
        "\n",
        "valid_loss, valid_acc = network.evaluate(valid_images, valid_labels)\n",
        "print('Valid Loss: %s\\nValid Accuracy: %s' % (valid_loss,valid_acc))"
      ],
      "execution_count": 0,
      "outputs": [
        {
          "output_type": "stream",
          "text": [
            "54000/54000 [==============================] - 3s 65us/step\n",
            "Train Loss: 0.0050037053014522015\n",
            "Train Accuracy: 0.9985\n",
            "\n",
            "6000/6000 [==============================] - 0s 64us/step\n",
            "Valid Loss: 0.0845715424339287\n",
            "Valid Accuracy: 0.9808333333333333\n"
          ],
          "name": "stdout"
        }
      ]
    },
    {
      "cell_type": "code",
      "metadata": {
        "colab_type": "code",
        "outputId": "0c63a3a6-3908-4c4d-d439-8758ef5c0231",
        "id": "57qYu70DdI6P",
        "colab": {
          "base_uri": "https://localhost:8080/",
          "height": 295
        }
      },
      "source": [
        "plot_acc_fn(history_dropout)"
      ],
      "execution_count": 0,
      "outputs": [
        {
          "output_type": "display_data",
          "data": {
            "image/png": "[encoded data removed]",
            "text/plain": [
              "<Figure size 432x288 with 1 Axes>"
            ]
          },
          "metadata": {
            "tags": []
          }
        }
      ]
    },
    {
      "cell_type": "code",
      "metadata": {
        "colab_type": "code",
        "outputId": "373bf4be-5c09-4f50-c190-74852b81e935",
        "id": "EIQ5iGXddI6V",
        "colab": {
          "base_uri": "https://localhost:8080/",
          "height": 295
        }
      },
      "source": [
        "plot_loss_fn(history_dropout)"
      ],
      "execution_count": 0,
      "outputs": [
        {
          "output_type": "display_data",
          "data": {
            "image/png": "[encoded data removed]",
            "text/plain": [
              "<Figure size 432x288 with 1 Axes>"
            ]
          },
          "metadata": {
            "tags": []
          }
        }
      ]
    },
    {
      "cell_type": "markdown",
      "metadata": {
        "id": "__nDfuuGm7K9",
        "colab_type": "text"
      },
      "source": [
        "#### My Tuning"
      ]
    },
    {
      "cell_type": "code",
      "metadata": {
        "id": "b8OmNuMQR3Q0",
        "colab_type": "code",
        "colab": {}
      },
      "source": [
        "from keras import regularizers\n",
        "from keras.layers import Dropout"
      ],
      "execution_count": 0,
      "outputs": []
    },
    {
      "cell_type": "code",
      "metadata": {
        "id": "zmLcGRcrTDzF",
        "colab_type": "code",
        "colab": {}
      },
      "source": [
        "from keras.callbacks import EarlyStopping, ModelCheckpoint\n",
        "\n",
        "callbacks = [EarlyStopping(monitor='val_loss', patience=2),\n",
        "             ModelCheckpoint(filepath='best_model.h5', monitor='val_loss', save_best_only=True)]"
      ],
      "execution_count": 0,
      "outputs": []
    },
    {
      "cell_type": "code",
      "metadata": {
        "id": "8Kol2JQdxHFK",
        "colab_type": "code",
        "colab": {}
      },
      "source": [
        "from keras import optimizers\n",
        "adam = optimizers.Adam(lr=0.001)"
      ],
      "execution_count": 0,
      "outputs": []
    },
    {
      "cell_type": "code",
      "metadata": {
        "id": "Ioz4mbovmmBD",
        "colab_type": "code",
        "colab": {}
      },
      "source": [
        "model = models.Sequential()\n",
        "model.add(layers.Dense(512, activation='elu',input_shape=(28*28,),kernel_initializer='he_normal'))\n",
        "model.add(Dropout(0.2))\n",
        "model.add(layers.Dense(128, activation='elu',kernel_initializer='he_normal'))\n",
        "model.add(Dropout(0.2))\n",
        "model.add(layers.Dense(512, activation='elu',kernel_initializer='he_normal'))\n",
        "model.add(layers.Dense(128, activation='elu',kernel_initializer='he_normal'))\n",
        "model.add(layers.Dense(10, activation='softmax'))\n",
        "\n",
        "model.compile(optimizer= 'adam', \n",
        "                loss='categorical_crossentropy', \n",
        "                metrics=['accuracy'])"
      ],
      "execution_count": 0,
      "outputs": []
    },
    {
      "cell_type": "code",
      "metadata": {
        "id": "ibEYmhP4TJUz",
        "colab_type": "code",
        "outputId": "23d5dfef-ebda-44ff-e388-16937dce69ad",
        "colab": {
          "base_uri": "https://localhost:8080/",
          "height": 306
        }
      },
      "source": [
        "history_tune = model.fit(train_images,train_labels,\n",
        "                          epochs=50,batch_size=128,\n",
        "                          callbacks=callbacks,\n",
        "                          validation_data=(valid_images,valid_labels))"
      ],
      "execution_count": 0,
      "outputs": [
        {
          "output_type": "stream",
          "text": [
            "Train on 54000 samples, validate on 6000 samples\n",
            "Epoch 1/50\n",
            "54000/54000 [==============================] - 5s 94us/step - loss: 0.2924 - acc: 0.9096 - val_loss: 0.1486 - val_acc: 0.9553\n",
            "Epoch 2/50\n",
            "54000/54000 [==============================] - 4s 65us/step - loss: 0.1529 - acc: 0.9519 - val_loss: 0.1375 - val_acc: 0.9580\n",
            "Epoch 3/50\n",
            "54000/54000 [==============================] - 3s 64us/step - loss: 0.1167 - acc: 0.9633 - val_loss: 0.1216 - val_acc: 0.9643\n",
            "Epoch 4/50\n",
            "54000/54000 [==============================] - 3s 63us/step - loss: 0.1029 - acc: 0.9682 - val_loss: 0.1219 - val_acc: 0.9658\n",
            "Epoch 5/50\n",
            "54000/54000 [==============================] - 3s 63us/step - loss: 0.0903 - acc: 0.9711 - val_loss: 0.1025 - val_acc: 0.9722\n",
            "Epoch 6/50\n",
            "54000/54000 [==============================] - 3s 65us/step - loss: 0.0801 - acc: 0.9750 - val_loss: 0.0990 - val_acc: 0.9733\n",
            "Epoch 7/50\n",
            "54000/54000 [==============================] - 3s 63us/step - loss: 0.0738 - acc: 0.9767 - val_loss: 0.1216 - val_acc: 0.9668\n",
            "Epoch 8/50\n",
            "54000/54000 [==============================] - 3s 64us/step - loss: 0.0710 - acc: 0.9763 - val_loss: 0.0992 - val_acc: 0.9755\n"
          ],
          "name": "stdout"
        }
      ]
    },
    {
      "cell_type": "markdown",
      "metadata": {
        "colab_type": "text",
        "id": "FfjMAXtPbFQx"
      },
      "source": [
        "### 7. Final Evaluation\n",
        "\n",
        "After you make sure that your model is good enough to be deploy in application, it is a time to evaluate your model with test set in order to test that your model is generalize well and not overfit to validation set."
      ]
    },
    {
      "cell_type": "code",
      "metadata": {
        "colab_type": "code",
        "id": "5DvEAOG8bFQy",
        "outputId": "af614dda-0dcb-4edc-b51f-efc9675631f8",
        "colab": {
          "base_uri": "https://localhost:8080/",
          "height": 476
        }
      },
      "source": [
        "pred = model.predict(test_images)\n",
        "\n",
        "print(confusion_matrix(test_labels.argmax(axis=1), pred.argmax(axis=1)))\n",
        "print(classification_report(test_labels.argmax(axis=1),pred.argmax(axis=1)))"
      ],
      "execution_count": 0,
      "outputs": [
        {
          "output_type": "stream",
          "text": [
            "[[ 965    0    3    2    0    2    5    1    1    1]\n",
            " [   0 1118    1    2    0    1    2    3    8    0]\n",
            " [   1    3 1014    2    1    0    2    7    2    0]\n",
            " [   0    0    8  968    0   30    0    3    0    1]\n",
            " [   0    0    1    1  963    0    5    1    1   10]\n",
            " [   1    0    0    2    0  874    3    1    2    9]\n",
            " [   3    3    0    0    4    3  943    0    2    0]\n",
            " [   2    2   16    5    0    0    0  999    1    3]\n",
            " [   4    1   11   11    2    6    2    7  927    3]\n",
            " [   1    2    0    4   11    3    1    7    1  979]]\n",
            "              precision    recall  f1-score   support\n",
            "\n",
            "           0       0.99      0.98      0.99       980\n",
            "           1       0.99      0.99      0.99      1135\n",
            "           2       0.96      0.98      0.97      1032\n",
            "           3       0.97      0.96      0.96      1010\n",
            "           4       0.98      0.98      0.98       982\n",
            "           5       0.95      0.98      0.97       892\n",
            "           6       0.98      0.98      0.98       958\n",
            "           7       0.97      0.97      0.97      1028\n",
            "           8       0.98      0.95      0.97       974\n",
            "           9       0.97      0.97      0.97      1009\n",
            "\n",
            "    accuracy                           0.97     10000\n",
            "   macro avg       0.97      0.97      0.97     10000\n",
            "weighted avg       0.98      0.97      0.98     10000\n",
            "\n"
          ],
          "name": "stdout"
        }
      ]
    },
    {
      "cell_type": "code",
      "metadata": {
        "id": "GOV3jqQATSNH",
        "colab_type": "code",
        "outputId": "004dd369-00b3-4c7c-a01f-1aa663809059",
        "colab": {
          "base_uri": "https://localhost:8080/",
          "height": 136
        }
      },
      "source": [
        "train_loss, train_acc = model.evaluate(train_images, train_labels)\n",
        "print('Train Loss: %s\\nTrain Accuracy: %s\\n' % (train_loss,train_acc))\n",
        "\n",
        "valid_loss, valid_acc = model.evaluate(valid_images, valid_labels)\n",
        "print('Valid Loss: %s\\nValid Accuracy: %s' % (valid_loss,valid_acc))"
      ],
      "execution_count": 0,
      "outputs": [
        {
          "output_type": "stream",
          "text": [
            "54000/54000 [==============================] - 4s 68us/step\n",
            "Train Loss: 0.039737436330234806\n",
            "Train Accuracy: 0.9865\n",
            "\n",
            "6000/6000 [==============================] - 0s 71us/step\n",
            "Valid Loss: 0.09917503907085241\n",
            "Valid Accuracy: 0.9755\n"
          ],
          "name": "stdout"
        }
      ]
    },
    {
      "cell_type": "code",
      "metadata": {
        "id": "bxrOcYpcTY_W",
        "colab_type": "code",
        "outputId": "6e3630c1-716a-4bac-96c3-ea0195081d48",
        "colab": {
          "base_uri": "https://localhost:8080/",
          "height": 295
        }
      },
      "source": [
        "plot_acc_fn(history_tune)"
      ],
      "execution_count": 0,
      "outputs": [
        {
          "output_type": "display_data",
          "data": {
            "image/png": "[encoded data removed]",
            "text/plain": [
              "<Figure size 432x288 with 1 Axes>"
            ]
          },
          "metadata": {
            "tags": []
          }
        }
      ]
    },
    {
      "cell_type": "code",
      "metadata": {
        "id": "6EPOQl_8TiCs",
        "colab_type": "code",
        "outputId": "8673fe4c-cc84-4b09-da39-1030329b43ed",
        "colab": {
          "base_uri": "https://localhost:8080/",
          "height": 295
        }
      },
      "source": [
        "plot_loss_fn(history_tune)"
      ],
      "execution_count": 0,
      "outputs": [
        {
          "output_type": "display_data",
          "data": {
            "image/png": "[encoded data removed]",
            "text/plain": [
              "<Figure size 432x288 with 1 Axes>"
            ]
          },
          "metadata": {
            "tags": []
          }
        }
      ]
    },
    {
      "cell_type": "markdown",
      "metadata": {
        "id": "96ai7A6qgfPv",
        "colab_type": "text"
      },
      "source": [
        "My Tune : ทดลองเพิ่ม dropout(0.2) ไป 2 layer ,จำนวน node คือ 512 และ 128 ,initializer='he_normal' และ optimizer adam ด้วย learning rate = 0.001 และ ทำ early stopping\n",
        "\n",
        "ผลลัพธ์ : Train acc = 0.9865 | Valid acc = 0.9755 ได้ acc ที่สูง แต่ยังมีความ overfit อยู่\n",
        "\n",
        "จาก confuxion matrix โมเดลทำนายผิดจาก class 5 เป็น 3 และจาก ค่า precision ของแต่ละ class พบว่าใน class 5 ค่าน้อยสุด"
      ]
    },
    {
      "cell_type": "markdown",
      "metadata": {
        "colab_type": "text",
        "id": "b-DR7_KWbFQ0"
      },
      "source": [
        "### Result & Discussion \n",
        "\n",
        "- Write down the key finding from this lab. Discuss what you had done, what do you get from the output or a result, and why (support your reason)"
      ]
    },
    {
      "cell_type": "markdown",
      "metadata": {
        "id": "STU1UEk5CtNb",
        "colab_type": "text"
      },
      "source": [
        "1. Incease Epoch : \n",
        "\n",
        "  เพิ่มจำนวน epoch จาก 30 เป็น 50 epoch เพื่อให้โมเดลเรียนรู้ได้มากขึ้น เพื่อจะได้ลดค่า loss ได้มากขึ้น\n",
        "  \n",
        "  ผลลัพธ์ : Train acc = 0.998 | Valid acc = 0.976 โมเดลมี accuracy สูงขึ้นเล็กน้อย จากกราฟโมเดลมีความ overfit ตั้งแต่ประมาณ epoch ที่ 2 เหมือนเดิม ซึ่งถือว่าโมเดลไม่ได้มีประสิทธิภาพเพิ่มขึ้น เพราะการเพิ่ม epoch ช่วยเพิ่มเพียงส่วนการเรียนรู้ของโมเดล\n",
        "  \n",
        "2. Adding Early Stopping :\n",
        "\n",
        "   ทำการเพิ่ม early stopping เพื่อให้โมเดลหยุดเรียนรู้ ณ จุดที่ค่า loss มีแนวโน้มที่จะไม่ลดลงแล้วหลังจากนั้น 2 epoch (patience=2) \n",
        "   \n",
        "   ผลลัพธ์ : Train acc = 0.9895 | Valid acc = 0.971 ถือว่า accuracy ใกล้เคียงกับการเพิ่มจำนวน epoch และจากกราฟโมเดลยังคง overfit อยู่เช่นเดิม เพราะเป็นการตัดปัญหาส่วนที่ Overfit เยอะๆ ทิ้งไป \n",
        "   \n",
        "3. Adding Regularizer :\n",
        "\n",
        "    ทำการเพิ่ม Regularizer ดังนี้ \n",
        "     \n",
        "    - l1 (0.001) :  Train acc = 0.875 | Valid acc = 0.856 \n",
        "    \n",
        "    ซึ่ง acc ต่ำกว่าโมเดลที่ไม่ได้ทำการเพิ่ม reg. แต่จากทั้ง 2 กราฟ(acc และ loss) พบว่า valid. มีแนวโน้มลู่เข้าหา train มากกว่ากราฟของโมเดลที่ไม่ได้ทำการเพิ่ม reg. และถือว่าสามารถลด overfit ลงได้\n",
        "    \n",
        "    - l2 (0.001)  : Train acc = 0.922 | Valid acc = 0.899 \n",
        "    \n",
        "    ซึ่ง acc เพิ่มขึ้น และจากกราฟอาจจะมีความ overfit กว่าถ้าเทียบกับกราฟของ reg. l1(0.001) ข้างต้น\n",
        "    \n",
        "    - l1(0.001) & l2(0.001) : Train acc = 0.906 | Valid acc = 0.887 \n",
        "    \n",
        "    จากกราฟสามารถลด overfit จากแบบข้างต้นได้\n",
        "    - l1(0.0001 & l2(0.0001) : Train acc = 0.959 | Valid acc = 0.933 \n",
        "    \n",
        "    จะเห็นได้ว่า acc เพิ่มขึ้น แต่จากทั้ง 2 กราฟ เส้น valid มีแนวโน้มคงที่ตั้งแต่ epoch ที่ 10 และถือว่ายังมีความ overfit อยู่เล็กน้อย\n",
        "    \n",
        "    - l1(0.0001) & l2(0.001) : Train acc = 0.927 | Valid acc = 0.907 \n",
        "    \n",
        "    จะเห็นว่า acc ต่ำกว่าแบบ l1(0.0001 & l2(0.0001) แต่จากกราฟ loss เส้น valid ในแนวโน้มเข้าหาเส้น train มากกว่า\n",
        "    \n",
        "    - l1(0.001) & l2(0.0001) : Train acc = 0.907 | Valid acc = 0.888 \n",
        "    \n",
        "    จะเห็นว่า acc ต่ำลง แต่จากทั้ง 2 กราฟ เส้น valid มีแนวโน้มลู่เข้าหาเส้น train มากกว่า\n",
        "    \n",
        "  สรุป การเพิ่ม Regularizer สามารถช่วยลด overfit ของโมเดลลงได้ ซึ่งอาจจะทำให้ได้ accuracy ที่ไม่สูงเท่าแบบไม่ได้เพิ่ม Regularizer\n",
        "\n",
        "4. Adding Dropout :\n",
        "\n",
        "    - Dropput(0.1) : Train acc = 0.9988 | Valid acc = 0.981\n",
        "    จากกราฟโมเดล overfit ประมาณ epoch ที่ 7\n",
        "    - Dropout(0.2) : Train acc = 0.9985 | Valid acc = 0.980\n",
        "    จากกราฟโมเดล overfit ประมาณ epoch ที่ 15\n",
        "    \n",
        "  สรุป การเพิ่ม Dropout สามารถทำให้โมเดลมีค่า acc ที่สูง และช่วยลด overfit ลงได้เล็กน้อย โดยความถูกต้องของโมเดลไม่ลดลงมาก\n",
        "เมื่อเทียบกับการเพิ่ม Regularizer \n",
        "\n",
        "จากแลปนี้พบว่าโมเดลที่มีความถูกต้องสูงนั้น อาจมีความถูกต้องในการทำนายต่ำ หากโมเดลไม่ good fit แต่ในขณะเดียวกันโมเดลที่มีความถูกต้องต่ำลงมากว่าหน่อย แต่โมเดลมีความ good fit จะให้ผลลัพธ์ของการทำนายในแต่ละคลาสค่อนข้างคงที และใกล้เคียงค่าเฉลี่ยมากกว่าหากเทียบจาก Confusion matrix"
      ]
    },
    {
      "cell_type": "markdown",
      "metadata": {
        "colab_type": "text",
        "id": "fW6u4OEmbFQ5"
      },
      "source": [
        "### 8. Play with your model\n",
        "\n",
        "1. Use any kind of drawing application ( For example, Paint or Adobe Photoshop ), create a 28x28 pixel (any resolution) with black (#000000) background and white (#FFFFFF) paint. \n",
        "2. Draw 3 any distinct single digit number of a range from 0 - 9. Then save the image (PNG)\n",
        "\n",
        "for local pc :\n",
        "3. Install open-cv (See https://pypi.org/project/opencv-python) by \n",
        "> `pip install opencv-python` <br/> or conda (See https://anaconda.org/conda-forge/opencv)\n",
        "\n",
        "for colab use:\n",
        "3. ```import cv2 as cv```\n",
        "4. Load your image to this IPython using ```imread()``` function\n",
        "5. Preprocess as what you did during the development stage.\n",
        "6. Feed your image to your best model.\n",
        "\n",
        "What class do your model predict? Does it correct? If not, why do it still get negative result since your model get more than 90% accuracy?"
      ]
    },
    {
      "cell_type": "code",
      "metadata": {
        "id": "Czcp0B1cGN-i",
        "colab_type": "code",
        "colab": {}
      },
      "source": [
        "import numpy as np\n",
        "import cv2 as cv\n",
        "from matplotlib import pyplot as plt"
      ],
      "execution_count": 0,
      "outputs": []
    },
    {
      "cell_type": "code",
      "metadata": {
        "id": "FtmK-StuGN6s",
        "colab_type": "code",
        "colab": {}
      },
      "source": [
        "# Read images\n",
        "img0 = cv.imread('image0.png',0)\n",
        "img1 = cv.imread('image1.png',0)\n",
        "img2 = cv.imread('image2.png',0)\n",
        "img3 = cv.imread('image3.png',0)\n",
        "img8 = cv.imread('image8.png',0)"
      ],
      "execution_count": 0,
      "outputs": []
    },
    {
      "cell_type": "code",
      "metadata": {
        "id": "3sIGiSaSJ6FD",
        "colab_type": "code",
        "colab": {}
      },
      "source": [
        "# Add images into list\n",
        "img_list = [img0,img1,img2,img3,img8]"
      ],
      "execution_count": 0,
      "outputs": []
    },
    {
      "cell_type": "code",
      "metadata": {
        "id": "0SwX45FyGWfy",
        "colab_type": "code",
        "outputId": "163fa7f3-de68-4474-f642-7cf05fc8be6e",
        "colab": {
          "base_uri": "https://localhost:8080/",
          "height": 126
        }
      },
      "source": [
        "fig, ax = plt.subplots(1, 5)\n",
        "ax[0].imshow(img_list[0],cmap='gray')\n",
        "ax[1].imshow(img_list[1],cmap='gray')\n",
        "ax[2].imshow(img_list[2],cmap='gray')\n",
        "ax[3].imshow(img_list[3],cmap='gray')\n",
        "ax[4].imshow(img_list[4],cmap='gray')\n",
        "\n",
        "# plt.imshow(img_list[1],cmap='gray')\n",
        "# plt.show()"
      ],
      "execution_count": 0,
      "outputs": [
        {
          "output_type": "execute_result",
          "data": {
            "text/plain": [
              "<matplotlib.image.AxesImage at 0x7f20b8e4d978>"
            ]
          },
          "metadata": {
            "tags": []
          },
          "execution_count": 91
        },
        {
          "output_type": "display_data",
          "data": {
            "image/png": "[encoded data removed]",
            "text/plain": [
              "<Figure size 432x288 with 5 Axes>"
            ]
          },
          "metadata": {
            "tags": []
          }
        }
      ]
    },
    {
      "cell_type": "code",
      "metadata": {
        "id": "CiF2PIPwKDo6",
        "colab_type": "code",
        "colab": {}
      },
      "source": [
        "# Convert list to numpy\n",
        "img_list = np.array(img_list)"
      ],
      "execution_count": 0,
      "outputs": []
    },
    {
      "cell_type": "code",
      "metadata": {
        "id": "L4wjY3dcHCIj",
        "colab_type": "code",
        "outputId": "9514eb34-5ed0-4dc9-d43f-4a1a0ec73b7a",
        "colab": {
          "base_uri": "https://localhost:8080/",
          "height": 68
        }
      },
      "source": [
        "print(type(img_list))\n",
        "print(img_list.shape)\n",
        "print(img_list.ndim)"
      ],
      "execution_count": 0,
      "outputs": [
        {
          "output_type": "stream",
          "text": [
            "<class 'numpy.ndarray'>\n",
            "(5, 28, 28)\n",
            "3\n"
          ],
          "name": "stdout"
        }
      ]
    },
    {
      "cell_type": "code",
      "metadata": {
        "id": "bNTA6YdiIJML",
        "colab_type": "code",
        "colab": {}
      },
      "source": [
        "# Reshape and Normalize\n",
        "data = img_list.reshape(img_list.shape[0],28*28).astype('float32')/255."
      ],
      "execution_count": 0,
      "outputs": []
    },
    {
      "cell_type": "code",
      "metadata": {
        "id": "oD4Rb-ZYIuTc",
        "colab_type": "code",
        "outputId": "9a67aa09-5c3f-4442-9517-2ed23e333197",
        "colab": {
          "base_uri": "https://localhost:8080/",
          "height": 34
        }
      },
      "source": [
        "data.shape"
      ],
      "execution_count": 0,
      "outputs": [
        {
          "output_type": "execute_result",
          "data": {
            "text/plain": [
              "(5, 784)"
            ]
          },
          "metadata": {
            "tags": []
          },
          "execution_count": 95
        }
      ]
    },
    {
      "cell_type": "code",
      "metadata": {
        "id": "4TLaPvmPGr_V",
        "colab_type": "code",
        "colab": {}
      },
      "source": [
        "# Predict data\n",
        "pred_img = model.predict(data)"
      ],
      "execution_count": 0,
      "outputs": []
    },
    {
      "cell_type": "code",
      "metadata": {
        "id": "qqbWV8tR0XIC",
        "colab_type": "code",
        "outputId": "67868516-b0b8-4b6a-883e-724e683b86d9",
        "colab": {
          "base_uri": "https://localhost:8080/",
          "height": 34
        }
      },
      "source": [
        "# Print result of prediction\n",
        "print(pred_img.argmax(axis=1))"
      ],
      "execution_count": 0,
      "outputs": [
        {
          "output_type": "stream",
          "text": [
            "[0 1 6 5 8]\n"
          ],
          "name": "stdout"
        }
      ]
    },
    {
      "cell_type": "markdown",
      "metadata": {
        "id": "ztHsinpEhOWw",
        "colab_type": "text"
      },
      "source": [
        "ANS : ถูกต้องสำหรับคลาส 0,1,8 และผิดสำหรับ 2,3 สาเหตุอาจเกิดได้จากหลายปัจจัย เช่น dataset อาจมีข้อมูลไม่เพียงพอต่อการเรียนรู้ เพราะ เลข 0,1,8 เป็นเลขที่ไม่มีความซับซ้อนมากนักเมื่อเทียบกับเลข 2 และ 3 หากมีข้อมูลสำหรับการเทรนโมเดลมากกว่านี้ โมเดลอาจมีความถูกต้องมากขึ้น หรือโมเดลที่เทรนนั้นได้ใช้วิธีที่ไม่มีความเหมาะสม ทำให้ได้โมเดลที่ไม่พอจะนำไปใช้กับข้อมูลภายนอก"
      ]
    },
    {
      "cell_type": "markdown",
      "metadata": {
        "colab_type": "text",
        "id": "6hNnUrWobFQ8"
      },
      "source": [
        "### Challenges: Play with initializer\n",
        "\n",
        "- Create two-layer neural network with any hyperparameter\n",
        "- Use or create an weight initializer function that initialize all the weight to one. See: https://keras.io/initializers/\n",
        "- Discuss the result. what happen? and why?"
      ]
    },
    {
      "cell_type": "code",
      "metadata": {
        "colab_type": "code",
        "id": "gSmsvxYAbFQ9",
        "colab": {}
      },
      "source": [
        "network_init = models.Sequential()\n",
        "network_init.add(layers.Dense(128, activation='relu',input_shape=(28*28,),kernel_initializer='Ones'))\n",
        "network_init.add(layers.Dense(10, activation='softmax'))"
      ],
      "execution_count": 0,
      "outputs": []
    },
    {
      "cell_type": "code",
      "metadata": {
        "id": "gmoarvtk1xAk",
        "colab_type": "code",
        "colab": {}
      },
      "source": [
        "adam = optimizers.Adam(lr=0.000001)\n",
        "\n",
        "network_init.compile(optimizer= 'adam', \n",
        "                loss='categorical_crossentropy', \n",
        "                metrics=['accuracy'])"
      ],
      "execution_count": 0,
      "outputs": []
    },
    {
      "cell_type": "code",
      "metadata": {
        "id": "AHra4wAN15wi",
        "colab_type": "code",
        "outputId": "cb08d180-237b-4e10-82b0-c31f150e66e5",
        "colab": {
          "base_uri": "https://localhost:8080/",
          "height": 221
        }
      },
      "source": [
        "network_init.summary()"
      ],
      "execution_count": 0,
      "outputs": [
        {
          "output_type": "stream",
          "text": [
            "Model: \"sequential_14\"\n",
            "_________________________________________________________________\n",
            "Layer (type)                 Output Shape              Param #   \n",
            "=================================================================\n",
            "dense_60 (Dense)             (None, 128)               100480    \n",
            "_________________________________________________________________\n",
            "dense_61 (Dense)             (None, 10)                1290      \n",
            "=================================================================\n",
            "Total params: 101,770\n",
            "Trainable params: 101,770\n",
            "Non-trainable params: 0\n",
            "_________________________________________________________________\n"
          ],
          "name": "stdout"
        }
      ]
    },
    {
      "cell_type": "code",
      "metadata": {
        "id": "MeS1KuVM1_kp",
        "colab_type": "code",
        "outputId": "cc907f42-eb08-4ace-9544-689d1ee5a47a",
        "colab": {
          "base_uri": "https://localhost:8080/",
          "height": 374
        }
      },
      "source": [
        "history_init = network_init.fit(train_images,train_labels,epochs=10,batch_size=128,validation_data=(valid_images,valid_labels))"
      ],
      "execution_count": 0,
      "outputs": [
        {
          "output_type": "stream",
          "text": [
            "Train on 54000 samples, validate on 6000 samples\n",
            "Epoch 1/10\n",
            "54000/54000 [==============================] - 4s 73us/step - loss: 11.4578 - acc: 0.2749 - val_loss: 11.4153 - val_acc: 0.2855\n",
            "Epoch 2/10\n",
            "54000/54000 [==============================] - 2s 43us/step - loss: 11.4358 - acc: 0.2817 - val_loss: 11.4233 - val_acc: 0.2845\n",
            "Epoch 3/10\n",
            "54000/54000 [==============================] - 2s 42us/step - loss: 11.4447 - acc: 0.2827 - val_loss: 11.4204 - val_acc: 0.2862\n",
            "Epoch 4/10\n",
            "54000/54000 [==============================] - 2s 41us/step - loss: 11.4359 - acc: 0.2843 - val_loss: 11.4563 - val_acc: 0.2815\n",
            "Epoch 5/10\n",
            "54000/54000 [==============================] - 2s 42us/step - loss: 11.4349 - acc: 0.2851 - val_loss: 11.4426 - val_acc: 0.2847\n",
            "Epoch 6/10\n",
            "54000/54000 [==============================] - 2s 43us/step - loss: 11.4307 - acc: 0.2860 - val_loss: 11.4268 - val_acc: 0.2875\n",
            "Epoch 7/10\n",
            "54000/54000 [==============================] - 2s 43us/step - loss: 11.4397 - acc: 0.2851 - val_loss: 11.4525 - val_acc: 0.2832\n",
            "Epoch 8/10\n",
            "54000/54000 [==============================] - 2s 43us/step - loss: 11.4467 - acc: 0.2845 - val_loss: 11.4304 - val_acc: 0.2875\n",
            "Epoch 9/10\n",
            "54000/54000 [==============================] - 2s 42us/step - loss: 11.4505 - acc: 0.2851 - val_loss: 11.4775 - val_acc: 0.2822\n",
            "Epoch 10/10\n",
            "54000/54000 [==============================] - 2s 42us/step - loss: 11.4494 - acc: 0.2857 - val_loss: 11.4338 - val_acc: 0.2877\n"
          ],
          "name": "stdout"
        }
      ]
    },
    {
      "cell_type": "code",
      "metadata": {
        "id": "DvVQHje22Jof",
        "colab_type": "code",
        "outputId": "a17ca6d4-4471-41d1-9653-8d1367d929ea",
        "colab": {
          "base_uri": "https://localhost:8080/",
          "height": 295
        }
      },
      "source": [
        "plot_acc_fn(history_init)"
      ],
      "execution_count": 0,
      "outputs": [
        {
          "output_type": "display_data",
          "data": {
            "image/png": "[encoded data removed]",
            "text/plain": [
              "<Figure size 432x288 with 1 Axes>"
            ]
          },
          "metadata": {
            "tags": []
          }
        }
      ]
    },
    {
      "cell_type": "code",
      "metadata": {
        "id": "wRQeZYbo2NRE",
        "colab_type": "code",
        "outputId": "023c48fa-c2e7-4615-de4c-0530c3b00eda",
        "colab": {
          "base_uri": "https://localhost:8080/",
          "height": 295
        }
      },
      "source": [
        "plot_loss_fn(history_init)"
      ],
      "execution_count": 0,
      "outputs": [
        {
          "output_type": "display_data",
          "data": {
            "image/png": "[encoded data removed]",
            "text/plain": [
              "<Figure size 432x288 with 1 Axes>"
            ]
          },
          "metadata": {
            "tags": []
          }
        }
      ]
    },
    {
      "cell_type": "markdown",
      "metadata": {
        "id": "YbFEDGoKg_3P",
        "colab_type": "text"
      },
      "source": [
        "โมเดลทำการเรียนรู้และทำ back propagation แล้วแต่ weight ไม่ถูกอัพเดตเป็นค่าอื่น ทำให้ได้ผลลัพธ์เท่าเดิม ไม่ดีขึ้น ทำให้เราควรจะกำหนด weight เป็น random"
      ]
    }
  ]
}